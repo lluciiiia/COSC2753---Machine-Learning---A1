{
 "cells": [
  {
   "cell_type": "markdown",
   "id": "e4449f3d-f264-4096-ad09-f66ee3475ee4",
   "metadata": {},
   "source": [
    "<h1 style=\"color:#572230;font-size:30px;text-align:center;\"><strong>Table of Content</strong></h1>\n",
    "\n",
    "## 1. [Imports and environment setup](#1)\n",
    "\n",
    "## 2. [Load Data sets](#2)\n",
    "\n",
    "## 3. [Model Type Comparison](#3)\n",
    "\n",
    "3.1 [Logistic Regression](#3.1) \n",
    "\n",
    "3.2 [Decision Trees](#3.2)\n",
    "\n",
    "3.3 [Random Forest](#3.3)\n",
    "\n",
    "## 4. [Model Performance Evaluation](#4)\n",
    "\n",
    "4.1 [Evaluation Metrics: F1 Score vs. Accuracy](#4.1) \n",
    "\n",
    "4.2 [Performance Improvement Criteria](#4.2)\n",
    "    \n",
    "## 5. [Set common varaibles](#5)\n",
    "\n",
    "## 6. [Logistic Regression Model Development](#6)\n",
    "\n",
    "6.1 [Logistic Regression Linear Model](#6.1) \n",
    "\n",
    "6.2 [Logistic Regression Polynomial Model with Degree 1](#6.2)\n",
    "\n",
    "6.3 [Logistic Regression Polynomial Model with Degree 2](#6.3)\n",
    "\n",
    "## 7. [Decision Tree Model Development](#7)\n",
    "\n",
    "## 8. [Random Forest Model Development](#8)\n",
    "\n",
    "## 9. [Final Model Selection](#9)\n",
    "\n",
    "<br>\n",
    "<hr>\n"
   ]
  },
  {
   "cell_type": "markdown",
   "id": "a1646d13-6557-4bdd-9f0f-ca12a22ee4ff",
   "metadata": {},
   "source": [
    "# 1. Imports and environment setup"
   ]
  },
  {
   "cell_type": "code",
   "execution_count": 2,
   "id": "337b7aa7-a0c4-475c-ab0e-8037c9753475",
   "metadata": {},
   "outputs": [],
   "source": [
    "import pandas as pd\n",
    "from sklearn.model_selection import GridSearchCV, RandomizedSearchCV, KFold, train_test_split\n",
    "import numpy as np\n",
    "from sklearn.linear_model import LogisticRegression\n",
    "from sklearn.ensemble import RandomForestClassifier\n",
    "from sklearn.metrics import f1_score, confusion_matrix, roc_curve, roc_auc_score, accuracy_score, classification_report, auc\n",
    "from sklearn.tree import DecisionTreeClassifier\n",
    "from sklearn.feature_selection import RFE\n",
    "import matplotlib.pyplot as plt\n",
    "from sklearn.metrics import confusion_matrix\n",
    "import seaborn as sns\n",
    "from sklearn.preprocessing import PolynomialFeatures\n",
    "from sklearn.pipeline import make_pipeline\n",
    "from sklearn.pipeline import Pipeline\n",
    "from sklearn.feature_selection import RFECV\n",
    "from scipy.stats import uniform \n",
    "from joblib import dump, load\n",
    "import pickle\n",
    "from scipy.stats import randint"
   ]
  },
  {
   "cell_type": "markdown",
   "id": "cbc7f761-5fcd-4b74-aae6-3215a7e518f1",
   "metadata": {},
   "source": [
    "# 2. Load Data sets"
   ]
  },
  {
   "cell_type": "markdown",
   "id": "b00c2de1-d3ea-4f3e-8a07-a4ffbf5a2bc5",
   "metadata": {},
   "source": [
    "We will load the datasets that have undergone data preprocessing in the previous step."
   ]
  },
  {
   "cell_type": "code",
   "execution_count": 8,
   "id": "aa3c46fe-e456-4209-bf9f-85101dd7661f",
   "metadata": {},
   "outputs": [],
   "source": [
    "trainDataFrame= pd.read_csv('../data/preprocessed_train.csv', delimiter=',')\n",
    "testDataFrame= pd.read_csv('../data/preprocessed_test.csv', delimiter=',')"
   ]
  },
  {
   "cell_type": "code",
   "execution_count": 3,
   "id": "ed6a3aab-8bb3-40af-986c-d6f3f75df8a4",
   "metadata": {},
   "outputs": [
    {
     "data": {
      "text/plain": [
       "(334210, 24)"
      ]
     },
     "execution_count": 3,
     "metadata": {},
     "output_type": "execute_result"
    }
   ],
   "source": [
    "trainDataFrame.shape"
   ]
  },
  {
   "cell_type": "code",
   "execution_count": 4,
   "id": "ba4d1ec6-c816-4c20-810e-c1a07cd99369",
   "metadata": {},
   "outputs": [
    {
     "data": {
      "text/plain": [
       "(50736, 24)"
      ]
     },
     "execution_count": 4,
     "metadata": {},
     "output_type": "execute_result"
    }
   ],
   "source": [
    "testDataFrame.shape"
   ]
  },
  {
   "cell_type": "markdown",
   "id": "9e114d53-111d-48d8-8f2d-8a34adc6646f",
   "metadata": {
    "jp-MarkdownHeadingCollapsed": true
   },
   "source": [
    "## 2.1. Train Data Set Review"
   ]
  },
  {
   "cell_type": "code",
   "execution_count": 5,
   "id": "f8a8018f-e045-4201-8d61-44702ab1cad8",
   "metadata": {},
   "outputs": [
    {
     "data": {
      "text/html": [
       "<div>\n",
       "<style scoped>\n",
       "    .dataframe tbody tr th:only-of-type {\n",
       "        vertical-align: middle;\n",
       "    }\n",
       "\n",
       "    .dataframe tbody tr th {\n",
       "        vertical-align: top;\n",
       "    }\n",
       "\n",
       "    .dataframe thead th {\n",
       "        text-align: right;\n",
       "    }\n",
       "</style>\n",
       "<table border=\"1\" class=\"dataframe\">\n",
       "  <thead>\n",
       "    <tr style=\"text-align: right;\">\n",
       "      <th></th>\n",
       "      <th>HighBP</th>\n",
       "      <th>HighChol</th>\n",
       "      <th>CholCheck</th>\n",
       "      <th>BMI</th>\n",
       "      <th>Smoker</th>\n",
       "      <th>Stroke</th>\n",
       "      <th>HeartDiseaseorAttack</th>\n",
       "      <th>PhysActivity</th>\n",
       "      <th>Fruits</th>\n",
       "      <th>Veggies</th>\n",
       "      <th>...</th>\n",
       "      <th>MentHlth</th>\n",
       "      <th>PhysHlth</th>\n",
       "      <th>DiffWalk</th>\n",
       "      <th>Sex</th>\n",
       "      <th>Age</th>\n",
       "      <th>Education</th>\n",
       "      <th>Income</th>\n",
       "      <th>ExtraMedTest</th>\n",
       "      <th>ExtraAlcoholTest</th>\n",
       "      <th>Status</th>\n",
       "    </tr>\n",
       "  </thead>\n",
       "  <tbody>\n",
       "    <tr>\n",
       "      <th>0</th>\n",
       "      <td>0</td>\n",
       "      <td>0</td>\n",
       "      <td>1</td>\n",
       "      <td>0.375000</td>\n",
       "      <td>1</td>\n",
       "      <td>0</td>\n",
       "      <td>0</td>\n",
       "      <td>1</td>\n",
       "      <td>0</td>\n",
       "      <td>1</td>\n",
       "      <td>...</td>\n",
       "      <td>0.000000</td>\n",
       "      <td>0.000000</td>\n",
       "      <td>0</td>\n",
       "      <td>0</td>\n",
       "      <td>8</td>\n",
       "      <td>4</td>\n",
       "      <td>5</td>\n",
       "      <td>0.812500</td>\n",
       "      <td>0.502551</td>\n",
       "      <td>0</td>\n",
       "    </tr>\n",
       "    <tr>\n",
       "      <th>1</th>\n",
       "      <td>0</td>\n",
       "      <td>0</td>\n",
       "      <td>1</td>\n",
       "      <td>0.517857</td>\n",
       "      <td>0</td>\n",
       "      <td>0</td>\n",
       "      <td>0</td>\n",
       "      <td>1</td>\n",
       "      <td>1</td>\n",
       "      <td>1</td>\n",
       "      <td>...</td>\n",
       "      <td>0.200000</td>\n",
       "      <td>0.000000</td>\n",
       "      <td>0</td>\n",
       "      <td>0</td>\n",
       "      <td>2</td>\n",
       "      <td>6</td>\n",
       "      <td>8</td>\n",
       "      <td>0.500000</td>\n",
       "      <td>0.176020</td>\n",
       "      <td>0</td>\n",
       "    </tr>\n",
       "    <tr>\n",
       "      <th>2</th>\n",
       "      <td>0</td>\n",
       "      <td>0</td>\n",
       "      <td>1</td>\n",
       "      <td>0.803571</td>\n",
       "      <td>1</td>\n",
       "      <td>0</td>\n",
       "      <td>0</td>\n",
       "      <td>1</td>\n",
       "      <td>1</td>\n",
       "      <td>0</td>\n",
       "      <td>...</td>\n",
       "      <td>1.000000</td>\n",
       "      <td>1.000000</td>\n",
       "      <td>1</td>\n",
       "      <td>0</td>\n",
       "      <td>3</td>\n",
       "      <td>2</td>\n",
       "      <td>1</td>\n",
       "      <td>0.260417</td>\n",
       "      <td>0.502551</td>\n",
       "      <td>0</td>\n",
       "    </tr>\n",
       "    <tr>\n",
       "      <th>3</th>\n",
       "      <td>0</td>\n",
       "      <td>1</td>\n",
       "      <td>1</td>\n",
       "      <td>0.767857</td>\n",
       "      <td>0</td>\n",
       "      <td>0</td>\n",
       "      <td>0</td>\n",
       "      <td>1</td>\n",
       "      <td>1</td>\n",
       "      <td>1</td>\n",
       "      <td>...</td>\n",
       "      <td>0.000000</td>\n",
       "      <td>0.000000</td>\n",
       "      <td>0</td>\n",
       "      <td>0</td>\n",
       "      <td>8</td>\n",
       "      <td>6</td>\n",
       "      <td>8</td>\n",
       "      <td>0.067708</td>\n",
       "      <td>0.507653</td>\n",
       "      <td>0</td>\n",
       "    </tr>\n",
       "    <tr>\n",
       "      <th>4</th>\n",
       "      <td>0</td>\n",
       "      <td>1</td>\n",
       "      <td>1</td>\n",
       "      <td>0.482143</td>\n",
       "      <td>0</td>\n",
       "      <td>0</td>\n",
       "      <td>0</td>\n",
       "      <td>1</td>\n",
       "      <td>0</td>\n",
       "      <td>1</td>\n",
       "      <td>...</td>\n",
       "      <td>0.000000</td>\n",
       "      <td>0.000000</td>\n",
       "      <td>0</td>\n",
       "      <td>0</td>\n",
       "      <td>9</td>\n",
       "      <td>5</td>\n",
       "      <td>4</td>\n",
       "      <td>0.197917</td>\n",
       "      <td>0.502551</td>\n",
       "      <td>0</td>\n",
       "    </tr>\n",
       "    <tr>\n",
       "      <th>...</th>\n",
       "      <td>...</td>\n",
       "      <td>...</td>\n",
       "      <td>...</td>\n",
       "      <td>...</td>\n",
       "      <td>...</td>\n",
       "      <td>...</td>\n",
       "      <td>...</td>\n",
       "      <td>...</td>\n",
       "      <td>...</td>\n",
       "      <td>...</td>\n",
       "      <td>...</td>\n",
       "      <td>...</td>\n",
       "      <td>...</td>\n",
       "      <td>...</td>\n",
       "      <td>...</td>\n",
       "      <td>...</td>\n",
       "      <td>...</td>\n",
       "      <td>...</td>\n",
       "      <td>...</td>\n",
       "      <td>...</td>\n",
       "      <td>...</td>\n",
       "    </tr>\n",
       "    <tr>\n",
       "      <th>334205</th>\n",
       "      <td>0</td>\n",
       "      <td>0</td>\n",
       "      <td>1</td>\n",
       "      <td>0.522719</td>\n",
       "      <td>0</td>\n",
       "      <td>0</td>\n",
       "      <td>0</td>\n",
       "      <td>1</td>\n",
       "      <td>1</td>\n",
       "      <td>1</td>\n",
       "      <td>...</td>\n",
       "      <td>0.000000</td>\n",
       "      <td>0.000000</td>\n",
       "      <td>0</td>\n",
       "      <td>0</td>\n",
       "      <td>9</td>\n",
       "      <td>6</td>\n",
       "      <td>8</td>\n",
       "      <td>0.566270</td>\n",
       "      <td>0.239244</td>\n",
       "      <td>1</td>\n",
       "    </tr>\n",
       "    <tr>\n",
       "      <th>334206</th>\n",
       "      <td>1</td>\n",
       "      <td>1</td>\n",
       "      <td>1</td>\n",
       "      <td>0.942151</td>\n",
       "      <td>0</td>\n",
       "      <td>0</td>\n",
       "      <td>0</td>\n",
       "      <td>0</td>\n",
       "      <td>0</td>\n",
       "      <td>0</td>\n",
       "      <td>...</td>\n",
       "      <td>0.871989</td>\n",
       "      <td>1.000000</td>\n",
       "      <td>1</td>\n",
       "      <td>1</td>\n",
       "      <td>6</td>\n",
       "      <td>4</td>\n",
       "      <td>4</td>\n",
       "      <td>0.488540</td>\n",
       "      <td>0.465608</td>\n",
       "      <td>1</td>\n",
       "    </tr>\n",
       "    <tr>\n",
       "      <th>334207</th>\n",
       "      <td>0</td>\n",
       "      <td>0</td>\n",
       "      <td>1</td>\n",
       "      <td>0.719160</td>\n",
       "      <td>0</td>\n",
       "      <td>0</td>\n",
       "      <td>0</td>\n",
       "      <td>1</td>\n",
       "      <td>0</td>\n",
       "      <td>0</td>\n",
       "      <td>...</td>\n",
       "      <td>0.000000</td>\n",
       "      <td>0.000000</td>\n",
       "      <td>0</td>\n",
       "      <td>0</td>\n",
       "      <td>7</td>\n",
       "      <td>5</td>\n",
       "      <td>6</td>\n",
       "      <td>0.505208</td>\n",
       "      <td>0.686631</td>\n",
       "      <td>1</td>\n",
       "    </tr>\n",
       "    <tr>\n",
       "      <th>334208</th>\n",
       "      <td>1</td>\n",
       "      <td>1</td>\n",
       "      <td>1</td>\n",
       "      <td>0.487553</td>\n",
       "      <td>1</td>\n",
       "      <td>0</td>\n",
       "      <td>0</td>\n",
       "      <td>0</td>\n",
       "      <td>0</td>\n",
       "      <td>0</td>\n",
       "      <td>...</td>\n",
       "      <td>0.000000</td>\n",
       "      <td>1.000000</td>\n",
       "      <td>1</td>\n",
       "      <td>0</td>\n",
       "      <td>9</td>\n",
       "      <td>4</td>\n",
       "      <td>6</td>\n",
       "      <td>0.691332</td>\n",
       "      <td>0.452745</td>\n",
       "      <td>1</td>\n",
       "    </tr>\n",
       "    <tr>\n",
       "      <th>334209</th>\n",
       "      <td>1</td>\n",
       "      <td>1</td>\n",
       "      <td>1</td>\n",
       "      <td>0.745487</td>\n",
       "      <td>0</td>\n",
       "      <td>0</td>\n",
       "      <td>0</td>\n",
       "      <td>1</td>\n",
       "      <td>1</td>\n",
       "      <td>1</td>\n",
       "      <td>...</td>\n",
       "      <td>0.000000</td>\n",
       "      <td>0.100019</td>\n",
       "      <td>0</td>\n",
       "      <td>1</td>\n",
       "      <td>6</td>\n",
       "      <td>5</td>\n",
       "      <td>7</td>\n",
       "      <td>0.876373</td>\n",
       "      <td>0.507653</td>\n",
       "      <td>1</td>\n",
       "    </tr>\n",
       "  </tbody>\n",
       "</table>\n",
       "<p>334210 rows × 24 columns</p>\n",
       "</div>"
      ],
      "text/plain": [
       "        HighBP  HighChol  CholCheck       BMI  Smoker  Stroke  \\\n",
       "0            0         0          1  0.375000       1       0   \n",
       "1            0         0          1  0.517857       0       0   \n",
       "2            0         0          1  0.803571       1       0   \n",
       "3            0         1          1  0.767857       0       0   \n",
       "4            0         1          1  0.482143       0       0   \n",
       "...        ...       ...        ...       ...     ...     ...   \n",
       "334205       0         0          1  0.522719       0       0   \n",
       "334206       1         1          1  0.942151       0       0   \n",
       "334207       0         0          1  0.719160       0       0   \n",
       "334208       1         1          1  0.487553       1       0   \n",
       "334209       1         1          1  0.745487       0       0   \n",
       "\n",
       "        HeartDiseaseorAttack  PhysActivity  Fruits  Veggies  ...  MentHlth  \\\n",
       "0                          0             1       0        1  ...  0.000000   \n",
       "1                          0             1       1        1  ...  0.200000   \n",
       "2                          0             1       1        0  ...  1.000000   \n",
       "3                          0             1       1        1  ...  0.000000   \n",
       "4                          0             1       0        1  ...  0.000000   \n",
       "...                      ...           ...     ...      ...  ...       ...   \n",
       "334205                     0             1       1        1  ...  0.000000   \n",
       "334206                     0             0       0        0  ...  0.871989   \n",
       "334207                     0             1       0        0  ...  0.000000   \n",
       "334208                     0             0       0        0  ...  0.000000   \n",
       "334209                     0             1       1        1  ...  0.000000   \n",
       "\n",
       "        PhysHlth  DiffWalk  Sex  Age  Education  Income  ExtraMedTest  \\\n",
       "0       0.000000         0    0    8          4       5      0.812500   \n",
       "1       0.000000         0    0    2          6       8      0.500000   \n",
       "2       1.000000         1    0    3          2       1      0.260417   \n",
       "3       0.000000         0    0    8          6       8      0.067708   \n",
       "4       0.000000         0    0    9          5       4      0.197917   \n",
       "...          ...       ...  ...  ...        ...     ...           ...   \n",
       "334205  0.000000         0    0    9          6       8      0.566270   \n",
       "334206  1.000000         1    1    6          4       4      0.488540   \n",
       "334207  0.000000         0    0    7          5       6      0.505208   \n",
       "334208  1.000000         1    0    9          4       6      0.691332   \n",
       "334209  0.100019         0    1    6          5       7      0.876373   \n",
       "\n",
       "        ExtraAlcoholTest  Status  \n",
       "0               0.502551       0  \n",
       "1               0.176020       0  \n",
       "2               0.502551       0  \n",
       "3               0.507653       0  \n",
       "4               0.502551       0  \n",
       "...                  ...     ...  \n",
       "334205          0.239244       1  \n",
       "334206          0.465608       1  \n",
       "334207          0.686631       1  \n",
       "334208          0.452745       1  \n",
       "334209          0.507653       1  \n",
       "\n",
       "[334210 rows x 24 columns]"
      ]
     },
     "execution_count": 5,
     "metadata": {},
     "output_type": "execute_result"
    }
   ],
   "source": [
    "trainDataFrame"
   ]
  },
  {
   "cell_type": "code",
   "execution_count": 6,
   "id": "b8a6d8f3-4d1e-4186-b1c4-ab0a893da2db",
   "metadata": {},
   "outputs": [
    {
     "data": {
      "text/html": [
       "<div>\n",
       "<style scoped>\n",
       "    .dataframe tbody tr th:only-of-type {\n",
       "        vertical-align: middle;\n",
       "    }\n",
       "\n",
       "    .dataframe tbody tr th {\n",
       "        vertical-align: top;\n",
       "    }\n",
       "\n",
       "    .dataframe thead th {\n",
       "        text-align: right;\n",
       "    }\n",
       "</style>\n",
       "<table border=\"1\" class=\"dataframe\">\n",
       "  <thead>\n",
       "    <tr style=\"text-align: right;\">\n",
       "      <th></th>\n",
       "      <th>HighBP</th>\n",
       "      <th>HighChol</th>\n",
       "      <th>CholCheck</th>\n",
       "      <th>BMI</th>\n",
       "      <th>Smoker</th>\n",
       "      <th>Stroke</th>\n",
       "      <th>HeartDiseaseorAttack</th>\n",
       "      <th>PhysActivity</th>\n",
       "      <th>Fruits</th>\n",
       "      <th>Veggies</th>\n",
       "      <th>...</th>\n",
       "      <th>MentHlth</th>\n",
       "      <th>PhysHlth</th>\n",
       "      <th>DiffWalk</th>\n",
       "      <th>Sex</th>\n",
       "      <th>Age</th>\n",
       "      <th>Education</th>\n",
       "      <th>Income</th>\n",
       "      <th>ExtraMedTest</th>\n",
       "      <th>ExtraAlcoholTest</th>\n",
       "      <th>Status</th>\n",
       "    </tr>\n",
       "  </thead>\n",
       "  <tbody>\n",
       "    <tr>\n",
       "      <th>count</th>\n",
       "      <td>334210.000000</td>\n",
       "      <td>334210.000000</td>\n",
       "      <td>334210.000000</td>\n",
       "      <td>334210.000000</td>\n",
       "      <td>334210.000000</td>\n",
       "      <td>334210.000000</td>\n",
       "      <td>334210.000000</td>\n",
       "      <td>334210.000000</td>\n",
       "      <td>334210.000000</td>\n",
       "      <td>334210.000000</td>\n",
       "      <td>...</td>\n",
       "      <td>334210.000000</td>\n",
       "      <td>334210.000000</td>\n",
       "      <td>334210.000000</td>\n",
       "      <td>334210.000000</td>\n",
       "      <td>334210.000000</td>\n",
       "      <td>334210.000000</td>\n",
       "      <td>334210.000000</td>\n",
       "      <td>334210.000000</td>\n",
       "      <td>334210.000000</td>\n",
       "      <td>334210.000000</td>\n",
       "    </tr>\n",
       "    <tr>\n",
       "      <th>mean</th>\n",
       "      <td>0.508118</td>\n",
       "      <td>0.479627</td>\n",
       "      <td>0.970321</td>\n",
       "      <td>0.554570</td>\n",
       "      <td>0.443194</td>\n",
       "      <td>0.038563</td>\n",
       "      <td>0.109246</td>\n",
       "      <td>0.706277</td>\n",
       "      <td>0.606654</td>\n",
       "      <td>0.786368</td>\n",
       "      <td>...</td>\n",
       "      <td>0.241697</td>\n",
       "      <td>0.287401</td>\n",
       "      <td>0.206804</td>\n",
       "      <td>0.428395</td>\n",
       "      <td>8.384737</td>\n",
       "      <td>4.933730</td>\n",
       "      <td>5.777308</td>\n",
       "      <td>0.582358</td>\n",
       "      <td>0.583440</td>\n",
       "      <td>0.500000</td>\n",
       "    </tr>\n",
       "    <tr>\n",
       "      <th>std</th>\n",
       "      <td>0.499935</td>\n",
       "      <td>0.499585</td>\n",
       "      <td>0.169700</td>\n",
       "      <td>0.196982</td>\n",
       "      <td>0.496763</td>\n",
       "      <td>0.192550</td>\n",
       "      <td>0.311948</td>\n",
       "      <td>0.455467</td>\n",
       "      <td>0.488493</td>\n",
       "      <td>0.409871</td>\n",
       "      <td>...</td>\n",
       "      <td>0.388262</td>\n",
       "      <td>0.399901</td>\n",
       "      <td>0.405014</td>\n",
       "      <td>0.494847</td>\n",
       "      <td>2.923399</td>\n",
       "      <td>1.022773</td>\n",
       "      <td>2.164366</td>\n",
       "      <td>0.260481</td>\n",
       "      <td>0.257134</td>\n",
       "      <td>0.500001</td>\n",
       "    </tr>\n",
       "    <tr>\n",
       "      <th>min</th>\n",
       "      <td>0.000000</td>\n",
       "      <td>0.000000</td>\n",
       "      <td>0.000000</td>\n",
       "      <td>0.000000</td>\n",
       "      <td>0.000000</td>\n",
       "      <td>0.000000</td>\n",
       "      <td>0.000000</td>\n",
       "      <td>0.000000</td>\n",
       "      <td>0.000000</td>\n",
       "      <td>0.000000</td>\n",
       "      <td>...</td>\n",
       "      <td>0.000000</td>\n",
       "      <td>0.000000</td>\n",
       "      <td>0.000000</td>\n",
       "      <td>0.000000</td>\n",
       "      <td>1.000000</td>\n",
       "      <td>1.000000</td>\n",
       "      <td>1.000000</td>\n",
       "      <td>0.000000</td>\n",
       "      <td>0.000000</td>\n",
       "      <td>0.000000</td>\n",
       "    </tr>\n",
       "    <tr>\n",
       "      <th>25%</th>\n",
       "      <td>0.000000</td>\n",
       "      <td>0.000000</td>\n",
       "      <td>1.000000</td>\n",
       "      <td>0.410714</td>\n",
       "      <td>0.000000</td>\n",
       "      <td>0.000000</td>\n",
       "      <td>0.000000</td>\n",
       "      <td>0.000000</td>\n",
       "      <td>0.000000</td>\n",
       "      <td>1.000000</td>\n",
       "      <td>...</td>\n",
       "      <td>0.000000</td>\n",
       "      <td>0.000000</td>\n",
       "      <td>0.000000</td>\n",
       "      <td>0.000000</td>\n",
       "      <td>7.000000</td>\n",
       "      <td>4.000000</td>\n",
       "      <td>4.000000</td>\n",
       "      <td>0.494792</td>\n",
       "      <td>0.495278</td>\n",
       "      <td>0.000000</td>\n",
       "    </tr>\n",
       "    <tr>\n",
       "      <th>50%</th>\n",
       "      <td>1.000000</td>\n",
       "      <td>0.000000</td>\n",
       "      <td>1.000000</td>\n",
       "      <td>0.517857</td>\n",
       "      <td>0.000000</td>\n",
       "      <td>0.000000</td>\n",
       "      <td>0.000000</td>\n",
       "      <td>1.000000</td>\n",
       "      <td>1.000000</td>\n",
       "      <td>1.000000</td>\n",
       "      <td>...</td>\n",
       "      <td>0.000000</td>\n",
       "      <td>0.000000</td>\n",
       "      <td>0.000000</td>\n",
       "      <td>0.000000</td>\n",
       "      <td>9.000000</td>\n",
       "      <td>5.000000</td>\n",
       "      <td>6.000000</td>\n",
       "      <td>0.505208</td>\n",
       "      <td>0.507653</td>\n",
       "      <td>0.500000</td>\n",
       "    </tr>\n",
       "    <tr>\n",
       "      <th>75%</th>\n",
       "      <td>1.000000</td>\n",
       "      <td>1.000000</td>\n",
       "      <td>1.000000</td>\n",
       "      <td>0.677009</td>\n",
       "      <td>1.000000</td>\n",
       "      <td>0.000000</td>\n",
       "      <td>0.000000</td>\n",
       "      <td>1.000000</td>\n",
       "      <td>1.000000</td>\n",
       "      <td>1.000000</td>\n",
       "      <td>...</td>\n",
       "      <td>0.400000</td>\n",
       "      <td>0.618227</td>\n",
       "      <td>0.000000</td>\n",
       "      <td>1.000000</td>\n",
       "      <td>11.000000</td>\n",
       "      <td>6.000000</td>\n",
       "      <td>8.000000</td>\n",
       "      <td>0.795773</td>\n",
       "      <td>0.791317</td>\n",
       "      <td>1.000000</td>\n",
       "    </tr>\n",
       "    <tr>\n",
       "      <th>max</th>\n",
       "      <td>1.000000</td>\n",
       "      <td>1.000000</td>\n",
       "      <td>1.000000</td>\n",
       "      <td>1.000000</td>\n",
       "      <td>1.000000</td>\n",
       "      <td>1.000000</td>\n",
       "      <td>1.000000</td>\n",
       "      <td>1.000000</td>\n",
       "      <td>1.000000</td>\n",
       "      <td>1.000000</td>\n",
       "      <td>...</td>\n",
       "      <td>1.000000</td>\n",
       "      <td>1.000000</td>\n",
       "      <td>1.000000</td>\n",
       "      <td>1.000000</td>\n",
       "      <td>13.000000</td>\n",
       "      <td>6.000000</td>\n",
       "      <td>8.000000</td>\n",
       "      <td>1.000000</td>\n",
       "      <td>1.000000</td>\n",
       "      <td>1.000000</td>\n",
       "    </tr>\n",
       "  </tbody>\n",
       "</table>\n",
       "<p>8 rows × 24 columns</p>\n",
       "</div>"
      ],
      "text/plain": [
       "              HighBP       HighChol      CholCheck            BMI  \\\n",
       "count  334210.000000  334210.000000  334210.000000  334210.000000   \n",
       "mean        0.508118       0.479627       0.970321       0.554570   \n",
       "std         0.499935       0.499585       0.169700       0.196982   \n",
       "min         0.000000       0.000000       0.000000       0.000000   \n",
       "25%         0.000000       0.000000       1.000000       0.410714   \n",
       "50%         1.000000       0.000000       1.000000       0.517857   \n",
       "75%         1.000000       1.000000       1.000000       0.677009   \n",
       "max         1.000000       1.000000       1.000000       1.000000   \n",
       "\n",
       "              Smoker         Stroke  HeartDiseaseorAttack   PhysActivity  \\\n",
       "count  334210.000000  334210.000000         334210.000000  334210.000000   \n",
       "mean        0.443194       0.038563              0.109246       0.706277   \n",
       "std         0.496763       0.192550              0.311948       0.455467   \n",
       "min         0.000000       0.000000              0.000000       0.000000   \n",
       "25%         0.000000       0.000000              0.000000       0.000000   \n",
       "50%         0.000000       0.000000              0.000000       1.000000   \n",
       "75%         1.000000       0.000000              0.000000       1.000000   \n",
       "max         1.000000       1.000000              1.000000       1.000000   \n",
       "\n",
       "              Fruits        Veggies  ...       MentHlth       PhysHlth  \\\n",
       "count  334210.000000  334210.000000  ...  334210.000000  334210.000000   \n",
       "mean        0.606654       0.786368  ...       0.241697       0.287401   \n",
       "std         0.488493       0.409871  ...       0.388262       0.399901   \n",
       "min         0.000000       0.000000  ...       0.000000       0.000000   \n",
       "25%         0.000000       1.000000  ...       0.000000       0.000000   \n",
       "50%         1.000000       1.000000  ...       0.000000       0.000000   \n",
       "75%         1.000000       1.000000  ...       0.400000       0.618227   \n",
       "max         1.000000       1.000000  ...       1.000000       1.000000   \n",
       "\n",
       "            DiffWalk            Sex            Age      Education  \\\n",
       "count  334210.000000  334210.000000  334210.000000  334210.000000   \n",
       "mean        0.206804       0.428395       8.384737       4.933730   \n",
       "std         0.405014       0.494847       2.923399       1.022773   \n",
       "min         0.000000       0.000000       1.000000       1.000000   \n",
       "25%         0.000000       0.000000       7.000000       4.000000   \n",
       "50%         0.000000       0.000000       9.000000       5.000000   \n",
       "75%         0.000000       1.000000      11.000000       6.000000   \n",
       "max         1.000000       1.000000      13.000000       6.000000   \n",
       "\n",
       "              Income   ExtraMedTest  ExtraAlcoholTest         Status  \n",
       "count  334210.000000  334210.000000     334210.000000  334210.000000  \n",
       "mean        5.777308       0.582358          0.583440       0.500000  \n",
       "std         2.164366       0.260481          0.257134       0.500001  \n",
       "min         1.000000       0.000000          0.000000       0.000000  \n",
       "25%         4.000000       0.494792          0.495278       0.000000  \n",
       "50%         6.000000       0.505208          0.507653       0.500000  \n",
       "75%         8.000000       0.795773          0.791317       1.000000  \n",
       "max         8.000000       1.000000          1.000000       1.000000  \n",
       "\n",
       "[8 rows x 24 columns]"
      ]
     },
     "execution_count": 6,
     "metadata": {},
     "output_type": "execute_result"
    }
   ],
   "source": [
    "trainDataFrame.describe()"
   ]
  },
  {
   "cell_type": "markdown",
   "id": "69230d63-ea54-4a06-9ea2-8174716af82b",
   "metadata": {
    "jp-MarkdownHeadingCollapsed": true
   },
   "source": [
    "## 2.1. Test Data Set Review"
   ]
  },
  {
   "cell_type": "code",
   "execution_count": 7,
   "id": "f701ab37-fdda-4504-924d-581b0bcdd09e",
   "metadata": {},
   "outputs": [
    {
     "data": {
      "text/html": [
       "<div>\n",
       "<style scoped>\n",
       "    .dataframe tbody tr th:only-of-type {\n",
       "        vertical-align: middle;\n",
       "    }\n",
       "\n",
       "    .dataframe tbody tr th {\n",
       "        vertical-align: top;\n",
       "    }\n",
       "\n",
       "    .dataframe thead th {\n",
       "        text-align: right;\n",
       "    }\n",
       "</style>\n",
       "<table border=\"1\" class=\"dataframe\">\n",
       "  <thead>\n",
       "    <tr style=\"text-align: right;\">\n",
       "      <th></th>\n",
       "      <th>HighBP</th>\n",
       "      <th>HighChol</th>\n",
       "      <th>CholCheck</th>\n",
       "      <th>BMI</th>\n",
       "      <th>Smoker</th>\n",
       "      <th>Stroke</th>\n",
       "      <th>HeartDiseaseorAttack</th>\n",
       "      <th>PhysActivity</th>\n",
       "      <th>Fruits</th>\n",
       "      <th>Veggies</th>\n",
       "      <th>...</th>\n",
       "      <th>MentHlth</th>\n",
       "      <th>PhysHlth</th>\n",
       "      <th>DiffWalk</th>\n",
       "      <th>Sex</th>\n",
       "      <th>Age</th>\n",
       "      <th>Education</th>\n",
       "      <th>Income</th>\n",
       "      <th>ExtraMedTest</th>\n",
       "      <th>ExtraAlcoholTest</th>\n",
       "      <th>Status</th>\n",
       "    </tr>\n",
       "  </thead>\n",
       "  <tbody>\n",
       "    <tr>\n",
       "      <th>0</th>\n",
       "      <td>1</td>\n",
       "      <td>1</td>\n",
       "      <td>1</td>\n",
       "      <td>0.589286</td>\n",
       "      <td>1</td>\n",
       "      <td>0</td>\n",
       "      <td>1</td>\n",
       "      <td>1</td>\n",
       "      <td>1</td>\n",
       "      <td>1</td>\n",
       "      <td>...</td>\n",
       "      <td>0.6</td>\n",
       "      <td>0.000000</td>\n",
       "      <td>0</td>\n",
       "      <td>1</td>\n",
       "      <td>11</td>\n",
       "      <td>4</td>\n",
       "      <td>7</td>\n",
       "      <td>0.500000</td>\n",
       "      <td>0.502551</td>\n",
       "      <td>NaN</td>\n",
       "    </tr>\n",
       "    <tr>\n",
       "      <th>1</th>\n",
       "      <td>0</td>\n",
       "      <td>0</td>\n",
       "      <td>1</td>\n",
       "      <td>0.482143</td>\n",
       "      <td>1</td>\n",
       "      <td>0</td>\n",
       "      <td>0</td>\n",
       "      <td>0</td>\n",
       "      <td>0</td>\n",
       "      <td>1</td>\n",
       "      <td>...</td>\n",
       "      <td>0.0</td>\n",
       "      <td>1.000000</td>\n",
       "      <td>1</td>\n",
       "      <td>1</td>\n",
       "      <td>13</td>\n",
       "      <td>2</td>\n",
       "      <td>5</td>\n",
       "      <td>0.645833</td>\n",
       "      <td>0.502551</td>\n",
       "      <td>NaN</td>\n",
       "    </tr>\n",
       "    <tr>\n",
       "      <th>2</th>\n",
       "      <td>0</td>\n",
       "      <td>0</td>\n",
       "      <td>1</td>\n",
       "      <td>0.267857</td>\n",
       "      <td>0</td>\n",
       "      <td>0</td>\n",
       "      <td>0</td>\n",
       "      <td>1</td>\n",
       "      <td>1</td>\n",
       "      <td>1</td>\n",
       "      <td>...</td>\n",
       "      <td>0.0</td>\n",
       "      <td>0.666667</td>\n",
       "      <td>0</td>\n",
       "      <td>0</td>\n",
       "      <td>10</td>\n",
       "      <td>6</td>\n",
       "      <td>8</td>\n",
       "      <td>0.364583</td>\n",
       "      <td>0.869898</td>\n",
       "      <td>NaN</td>\n",
       "    </tr>\n",
       "    <tr>\n",
       "      <th>3</th>\n",
       "      <td>0</td>\n",
       "      <td>0</td>\n",
       "      <td>1</td>\n",
       "      <td>0.375000</td>\n",
       "      <td>1</td>\n",
       "      <td>0</td>\n",
       "      <td>0</td>\n",
       "      <td>1</td>\n",
       "      <td>1</td>\n",
       "      <td>1</td>\n",
       "      <td>...</td>\n",
       "      <td>0.0</td>\n",
       "      <td>1.000000</td>\n",
       "      <td>0</td>\n",
       "      <td>0</td>\n",
       "      <td>9</td>\n",
       "      <td>6</td>\n",
       "      <td>7</td>\n",
       "      <td>0.500000</td>\n",
       "      <td>0.502551</td>\n",
       "      <td>NaN</td>\n",
       "    </tr>\n",
       "    <tr>\n",
       "      <th>4</th>\n",
       "      <td>1</td>\n",
       "      <td>0</td>\n",
       "      <td>1</td>\n",
       "      <td>0.732143</td>\n",
       "      <td>0</td>\n",
       "      <td>0</td>\n",
       "      <td>0</td>\n",
       "      <td>1</td>\n",
       "      <td>1</td>\n",
       "      <td>0</td>\n",
       "      <td>...</td>\n",
       "      <td>0.0</td>\n",
       "      <td>0.133333</td>\n",
       "      <td>1</td>\n",
       "      <td>0</td>\n",
       "      <td>11</td>\n",
       "      <td>4</td>\n",
       "      <td>7</td>\n",
       "      <td>0.119792</td>\n",
       "      <td>0.181122</td>\n",
       "      <td>NaN</td>\n",
       "    </tr>\n",
       "    <tr>\n",
       "      <th>...</th>\n",
       "      <td>...</td>\n",
       "      <td>...</td>\n",
       "      <td>...</td>\n",
       "      <td>...</td>\n",
       "      <td>...</td>\n",
       "      <td>...</td>\n",
       "      <td>...</td>\n",
       "      <td>...</td>\n",
       "      <td>...</td>\n",
       "      <td>...</td>\n",
       "      <td>...</td>\n",
       "      <td>...</td>\n",
       "      <td>...</td>\n",
       "      <td>...</td>\n",
       "      <td>...</td>\n",
       "      <td>...</td>\n",
       "      <td>...</td>\n",
       "      <td>...</td>\n",
       "      <td>...</td>\n",
       "      <td>...</td>\n",
       "      <td>...</td>\n",
       "    </tr>\n",
       "    <tr>\n",
       "      <th>50731</th>\n",
       "      <td>1</td>\n",
       "      <td>0</td>\n",
       "      <td>1</td>\n",
       "      <td>0.875000</td>\n",
       "      <td>0</td>\n",
       "      <td>0</td>\n",
       "      <td>0</td>\n",
       "      <td>1</td>\n",
       "      <td>1</td>\n",
       "      <td>0</td>\n",
       "      <td>...</td>\n",
       "      <td>0.4</td>\n",
       "      <td>0.266667</td>\n",
       "      <td>0</td>\n",
       "      <td>0</td>\n",
       "      <td>8</td>\n",
       "      <td>6</td>\n",
       "      <td>7</td>\n",
       "      <td>0.723958</td>\n",
       "      <td>0.614796</td>\n",
       "      <td>NaN</td>\n",
       "    </tr>\n",
       "    <tr>\n",
       "      <th>50732</th>\n",
       "      <td>0</td>\n",
       "      <td>1</td>\n",
       "      <td>1</td>\n",
       "      <td>0.375000</td>\n",
       "      <td>0</td>\n",
       "      <td>0</td>\n",
       "      <td>0</td>\n",
       "      <td>1</td>\n",
       "      <td>0</td>\n",
       "      <td>1</td>\n",
       "      <td>...</td>\n",
       "      <td>1.0</td>\n",
       "      <td>0.000000</td>\n",
       "      <td>0</td>\n",
       "      <td>0</td>\n",
       "      <td>10</td>\n",
       "      <td>6</td>\n",
       "      <td>7</td>\n",
       "      <td>0.468750</td>\n",
       "      <td>0.160714</td>\n",
       "      <td>NaN</td>\n",
       "    </tr>\n",
       "    <tr>\n",
       "      <th>50733</th>\n",
       "      <td>1</td>\n",
       "      <td>1</td>\n",
       "      <td>1</td>\n",
       "      <td>0.625000</td>\n",
       "      <td>0</td>\n",
       "      <td>0</td>\n",
       "      <td>1</td>\n",
       "      <td>1</td>\n",
       "      <td>1</td>\n",
       "      <td>1</td>\n",
       "      <td>...</td>\n",
       "      <td>0.0</td>\n",
       "      <td>0.000000</td>\n",
       "      <td>1</td>\n",
       "      <td>0</td>\n",
       "      <td>13</td>\n",
       "      <td>5</td>\n",
       "      <td>3</td>\n",
       "      <td>0.677083</td>\n",
       "      <td>0.938776</td>\n",
       "      <td>NaN</td>\n",
       "    </tr>\n",
       "    <tr>\n",
       "      <th>50734</th>\n",
       "      <td>1</td>\n",
       "      <td>1</td>\n",
       "      <td>1</td>\n",
       "      <td>0.375000</td>\n",
       "      <td>1</td>\n",
       "      <td>0</td>\n",
       "      <td>0</td>\n",
       "      <td>0</td>\n",
       "      <td>0</td>\n",
       "      <td>1</td>\n",
       "      <td>...</td>\n",
       "      <td>0.0</td>\n",
       "      <td>0.000000</td>\n",
       "      <td>1</td>\n",
       "      <td>1</td>\n",
       "      <td>11</td>\n",
       "      <td>5</td>\n",
       "      <td>7</td>\n",
       "      <td>0.500000</td>\n",
       "      <td>0.938776</td>\n",
       "      <td>NaN</td>\n",
       "    </tr>\n",
       "    <tr>\n",
       "      <th>50735</th>\n",
       "      <td>1</td>\n",
       "      <td>0</td>\n",
       "      <td>1</td>\n",
       "      <td>0.303571</td>\n",
       "      <td>0</td>\n",
       "      <td>0</td>\n",
       "      <td>0</td>\n",
       "      <td>1</td>\n",
       "      <td>0</td>\n",
       "      <td>1</td>\n",
       "      <td>...</td>\n",
       "      <td>0.0</td>\n",
       "      <td>0.000000</td>\n",
       "      <td>0</td>\n",
       "      <td>0</td>\n",
       "      <td>13</td>\n",
       "      <td>4</td>\n",
       "      <td>6</td>\n",
       "      <td>0.500000</td>\n",
       "      <td>0.293367</td>\n",
       "      <td>NaN</td>\n",
       "    </tr>\n",
       "  </tbody>\n",
       "</table>\n",
       "<p>50736 rows × 24 columns</p>\n",
       "</div>"
      ],
      "text/plain": [
       "       HighBP  HighChol  CholCheck       BMI  Smoker  Stroke  \\\n",
       "0           1         1          1  0.589286       1       0   \n",
       "1           0         0          1  0.482143       1       0   \n",
       "2           0         0          1  0.267857       0       0   \n",
       "3           0         0          1  0.375000       1       0   \n",
       "4           1         0          1  0.732143       0       0   \n",
       "...       ...       ...        ...       ...     ...     ...   \n",
       "50731       1         0          1  0.875000       0       0   \n",
       "50732       0         1          1  0.375000       0       0   \n",
       "50733       1         1          1  0.625000       0       0   \n",
       "50734       1         1          1  0.375000       1       0   \n",
       "50735       1         0          1  0.303571       0       0   \n",
       "\n",
       "       HeartDiseaseorAttack  PhysActivity  Fruits  Veggies  ...  MentHlth  \\\n",
       "0                         1             1       1        1  ...       0.6   \n",
       "1                         0             0       0        1  ...       0.0   \n",
       "2                         0             1       1        1  ...       0.0   \n",
       "3                         0             1       1        1  ...       0.0   \n",
       "4                         0             1       1        0  ...       0.0   \n",
       "...                     ...           ...     ...      ...  ...       ...   \n",
       "50731                     0             1       1        0  ...       0.4   \n",
       "50732                     0             1       0        1  ...       1.0   \n",
       "50733                     1             1       1        1  ...       0.0   \n",
       "50734                     0             0       0        1  ...       0.0   \n",
       "50735                     0             1       0        1  ...       0.0   \n",
       "\n",
       "       PhysHlth  DiffWalk  Sex  Age  Education  Income  ExtraMedTest  \\\n",
       "0      0.000000         0    1   11          4       7      0.500000   \n",
       "1      1.000000         1    1   13          2       5      0.645833   \n",
       "2      0.666667         0    0   10          6       8      0.364583   \n",
       "3      1.000000         0    0    9          6       7      0.500000   \n",
       "4      0.133333         1    0   11          4       7      0.119792   \n",
       "...         ...       ...  ...  ...        ...     ...           ...   \n",
       "50731  0.266667         0    0    8          6       7      0.723958   \n",
       "50732  0.000000         0    0   10          6       7      0.468750   \n",
       "50733  0.000000         1    0   13          5       3      0.677083   \n",
       "50734  0.000000         1    1   11          5       7      0.500000   \n",
       "50735  0.000000         0    0   13          4       6      0.500000   \n",
       "\n",
       "       ExtraAlcoholTest  Status  \n",
       "0              0.502551     NaN  \n",
       "1              0.502551     NaN  \n",
       "2              0.869898     NaN  \n",
       "3              0.502551     NaN  \n",
       "4              0.181122     NaN  \n",
       "...                 ...     ...  \n",
       "50731          0.614796     NaN  \n",
       "50732          0.160714     NaN  \n",
       "50733          0.938776     NaN  \n",
       "50734          0.938776     NaN  \n",
       "50735          0.293367     NaN  \n",
       "\n",
       "[50736 rows x 24 columns]"
      ]
     },
     "execution_count": 7,
     "metadata": {},
     "output_type": "execute_result"
    }
   ],
   "source": [
    "testDataFrame"
   ]
  },
  {
   "cell_type": "code",
   "execution_count": 8,
   "id": "365355a6-468d-45c8-973f-bfa6e32017c1",
   "metadata": {},
   "outputs": [
    {
     "data": {
      "text/html": [
       "<div>\n",
       "<style scoped>\n",
       "    .dataframe tbody tr th:only-of-type {\n",
       "        vertical-align: middle;\n",
       "    }\n",
       "\n",
       "    .dataframe tbody tr th {\n",
       "        vertical-align: top;\n",
       "    }\n",
       "\n",
       "    .dataframe thead th {\n",
       "        text-align: right;\n",
       "    }\n",
       "</style>\n",
       "<table border=\"1\" class=\"dataframe\">\n",
       "  <thead>\n",
       "    <tr style=\"text-align: right;\">\n",
       "      <th></th>\n",
       "      <th>HighBP</th>\n",
       "      <th>HighChol</th>\n",
       "      <th>CholCheck</th>\n",
       "      <th>BMI</th>\n",
       "      <th>Smoker</th>\n",
       "      <th>Stroke</th>\n",
       "      <th>HeartDiseaseorAttack</th>\n",
       "      <th>PhysActivity</th>\n",
       "      <th>Fruits</th>\n",
       "      <th>Veggies</th>\n",
       "      <th>...</th>\n",
       "      <th>MentHlth</th>\n",
       "      <th>PhysHlth</th>\n",
       "      <th>DiffWalk</th>\n",
       "      <th>Sex</th>\n",
       "      <th>Age</th>\n",
       "      <th>Education</th>\n",
       "      <th>Income</th>\n",
       "      <th>ExtraMedTest</th>\n",
       "      <th>ExtraAlcoholTest</th>\n",
       "      <th>Status</th>\n",
       "    </tr>\n",
       "  </thead>\n",
       "  <tbody>\n",
       "    <tr>\n",
       "      <th>count</th>\n",
       "      <td>50736.000000</td>\n",
       "      <td>50736.000000</td>\n",
       "      <td>50736.000000</td>\n",
       "      <td>50736.000000</td>\n",
       "      <td>50736.000000</td>\n",
       "      <td>50736.000000</td>\n",
       "      <td>50736.000000</td>\n",
       "      <td>50736.000000</td>\n",
       "      <td>50736.000000</td>\n",
       "      <td>50736.000000</td>\n",
       "      <td>...</td>\n",
       "      <td>50736.000000</td>\n",
       "      <td>50736.000000</td>\n",
       "      <td>50736.000000</td>\n",
       "      <td>50736.000000</td>\n",
       "      <td>50736.000000</td>\n",
       "      <td>50736.000000</td>\n",
       "      <td>50736.000000</td>\n",
       "      <td>50736.000000</td>\n",
       "      <td>50736.000000</td>\n",
       "      <td>0.0</td>\n",
       "    </tr>\n",
       "    <tr>\n",
       "      <th>mean</th>\n",
       "      <td>0.430207</td>\n",
       "      <td>0.423230</td>\n",
       "      <td>0.962729</td>\n",
       "      <td>0.522126</td>\n",
       "      <td>0.445305</td>\n",
       "      <td>0.039479</td>\n",
       "      <td>0.093366</td>\n",
       "      <td>0.757509</td>\n",
       "      <td>0.629789</td>\n",
       "      <td>0.811022</td>\n",
       "      <td>...</td>\n",
       "      <td>0.231776</td>\n",
       "      <td>0.245241</td>\n",
       "      <td>0.166292</td>\n",
       "      <td>0.443531</td>\n",
       "      <td>8.010801</td>\n",
       "      <td>5.051187</td>\n",
       "      <td>6.046811</td>\n",
       "      <td>0.497636</td>\n",
       "      <td>0.497212</td>\n",
       "      <td>NaN</td>\n",
       "    </tr>\n",
       "    <tr>\n",
       "      <th>std</th>\n",
       "      <td>0.495110</td>\n",
       "      <td>0.494076</td>\n",
       "      <td>0.189428</td>\n",
       "      <td>0.198598</td>\n",
       "      <td>0.497004</td>\n",
       "      <td>0.194733</td>\n",
       "      <td>0.290947</td>\n",
       "      <td>0.428594</td>\n",
       "      <td>0.482866</td>\n",
       "      <td>0.391495</td>\n",
       "      <td>...</td>\n",
       "      <td>0.388741</td>\n",
       "      <td>0.383526</td>\n",
       "      <td>0.372346</td>\n",
       "      <td>0.496806</td>\n",
       "      <td>3.064743</td>\n",
       "      <td>0.986477</td>\n",
       "      <td>2.075180</td>\n",
       "      <td>0.247704</td>\n",
       "      <td>0.240270</td>\n",
       "      <td>NaN</td>\n",
       "    </tr>\n",
       "    <tr>\n",
       "      <th>min</th>\n",
       "      <td>0.000000</td>\n",
       "      <td>0.000000</td>\n",
       "      <td>0.000000</td>\n",
       "      <td>0.000000</td>\n",
       "      <td>0.000000</td>\n",
       "      <td>0.000000</td>\n",
       "      <td>0.000000</td>\n",
       "      <td>0.000000</td>\n",
       "      <td>0.000000</td>\n",
       "      <td>0.000000</td>\n",
       "      <td>...</td>\n",
       "      <td>0.000000</td>\n",
       "      <td>0.000000</td>\n",
       "      <td>0.000000</td>\n",
       "      <td>0.000000</td>\n",
       "      <td>1.000000</td>\n",
       "      <td>1.000000</td>\n",
       "      <td>1.000000</td>\n",
       "      <td>0.005208</td>\n",
       "      <td>0.020408</td>\n",
       "      <td>NaN</td>\n",
       "    </tr>\n",
       "    <tr>\n",
       "      <th>25%</th>\n",
       "      <td>0.000000</td>\n",
       "      <td>0.000000</td>\n",
       "      <td>1.000000</td>\n",
       "      <td>0.375000</td>\n",
       "      <td>0.000000</td>\n",
       "      <td>0.000000</td>\n",
       "      <td>0.000000</td>\n",
       "      <td>1.000000</td>\n",
       "      <td>0.000000</td>\n",
       "      <td>1.000000</td>\n",
       "      <td>...</td>\n",
       "      <td>0.000000</td>\n",
       "      <td>0.000000</td>\n",
       "      <td>0.000000</td>\n",
       "      <td>0.000000</td>\n",
       "      <td>6.000000</td>\n",
       "      <td>4.000000</td>\n",
       "      <td>5.000000</td>\n",
       "      <td>0.364583</td>\n",
       "      <td>0.364796</td>\n",
       "      <td>NaN</td>\n",
       "    </tr>\n",
       "    <tr>\n",
       "      <th>50%</th>\n",
       "      <td>0.000000</td>\n",
       "      <td>0.000000</td>\n",
       "      <td>1.000000</td>\n",
       "      <td>0.482143</td>\n",
       "      <td>0.000000</td>\n",
       "      <td>0.000000</td>\n",
       "      <td>0.000000</td>\n",
       "      <td>1.000000</td>\n",
       "      <td>1.000000</td>\n",
       "      <td>1.000000</td>\n",
       "      <td>...</td>\n",
       "      <td>0.000000</td>\n",
       "      <td>0.000000</td>\n",
       "      <td>0.000000</td>\n",
       "      <td>0.000000</td>\n",
       "      <td>8.000000</td>\n",
       "      <td>5.000000</td>\n",
       "      <td>7.000000</td>\n",
       "      <td>0.500000</td>\n",
       "      <td>0.502551</td>\n",
       "      <td>NaN</td>\n",
       "    </tr>\n",
       "    <tr>\n",
       "      <th>75%</th>\n",
       "      <td>1.000000</td>\n",
       "      <td>1.000000</td>\n",
       "      <td>1.000000</td>\n",
       "      <td>0.625000</td>\n",
       "      <td>1.000000</td>\n",
       "      <td>0.000000</td>\n",
       "      <td>0.000000</td>\n",
       "      <td>1.000000</td>\n",
       "      <td>1.000000</td>\n",
       "      <td>1.000000</td>\n",
       "      <td>...</td>\n",
       "      <td>0.400000</td>\n",
       "      <td>0.400000</td>\n",
       "      <td>0.000000</td>\n",
       "      <td>1.000000</td>\n",
       "      <td>10.000000</td>\n",
       "      <td>6.000000</td>\n",
       "      <td>8.000000</td>\n",
       "      <td>0.604167</td>\n",
       "      <td>0.594388</td>\n",
       "      <td>NaN</td>\n",
       "    </tr>\n",
       "    <tr>\n",
       "      <th>max</th>\n",
       "      <td>1.000000</td>\n",
       "      <td>1.000000</td>\n",
       "      <td>1.000000</td>\n",
       "      <td>1.000000</td>\n",
       "      <td>1.000000</td>\n",
       "      <td>1.000000</td>\n",
       "      <td>1.000000</td>\n",
       "      <td>1.000000</td>\n",
       "      <td>1.000000</td>\n",
       "      <td>1.000000</td>\n",
       "      <td>...</td>\n",
       "      <td>1.000000</td>\n",
       "      <td>1.000000</td>\n",
       "      <td>1.000000</td>\n",
       "      <td>1.000000</td>\n",
       "      <td>13.000000</td>\n",
       "      <td>6.000000</td>\n",
       "      <td>8.000000</td>\n",
       "      <td>0.963542</td>\n",
       "      <td>0.938776</td>\n",
       "      <td>NaN</td>\n",
       "    </tr>\n",
       "  </tbody>\n",
       "</table>\n",
       "<p>8 rows × 24 columns</p>\n",
       "</div>"
      ],
      "text/plain": [
       "             HighBP      HighChol     CholCheck           BMI        Smoker  \\\n",
       "count  50736.000000  50736.000000  50736.000000  50736.000000  50736.000000   \n",
       "mean       0.430207      0.423230      0.962729      0.522126      0.445305   \n",
       "std        0.495110      0.494076      0.189428      0.198598      0.497004   \n",
       "min        0.000000      0.000000      0.000000      0.000000      0.000000   \n",
       "25%        0.000000      0.000000      1.000000      0.375000      0.000000   \n",
       "50%        0.000000      0.000000      1.000000      0.482143      0.000000   \n",
       "75%        1.000000      1.000000      1.000000      0.625000      1.000000   \n",
       "max        1.000000      1.000000      1.000000      1.000000      1.000000   \n",
       "\n",
       "             Stroke  HeartDiseaseorAttack  PhysActivity        Fruits  \\\n",
       "count  50736.000000          50736.000000  50736.000000  50736.000000   \n",
       "mean       0.039479              0.093366      0.757509      0.629789   \n",
       "std        0.194733              0.290947      0.428594      0.482866   \n",
       "min        0.000000              0.000000      0.000000      0.000000   \n",
       "25%        0.000000              0.000000      1.000000      0.000000   \n",
       "50%        0.000000              0.000000      1.000000      1.000000   \n",
       "75%        0.000000              0.000000      1.000000      1.000000   \n",
       "max        1.000000              1.000000      1.000000      1.000000   \n",
       "\n",
       "            Veggies  ...      MentHlth      PhysHlth      DiffWalk  \\\n",
       "count  50736.000000  ...  50736.000000  50736.000000  50736.000000   \n",
       "mean       0.811022  ...      0.231776      0.245241      0.166292   \n",
       "std        0.391495  ...      0.388741      0.383526      0.372346   \n",
       "min        0.000000  ...      0.000000      0.000000      0.000000   \n",
       "25%        1.000000  ...      0.000000      0.000000      0.000000   \n",
       "50%        1.000000  ...      0.000000      0.000000      0.000000   \n",
       "75%        1.000000  ...      0.400000      0.400000      0.000000   \n",
       "max        1.000000  ...      1.000000      1.000000      1.000000   \n",
       "\n",
       "                Sex           Age     Education        Income  ExtraMedTest  \\\n",
       "count  50736.000000  50736.000000  50736.000000  50736.000000  50736.000000   \n",
       "mean       0.443531      8.010801      5.051187      6.046811      0.497636   \n",
       "std        0.496806      3.064743      0.986477      2.075180      0.247704   \n",
       "min        0.000000      1.000000      1.000000      1.000000      0.005208   \n",
       "25%        0.000000      6.000000      4.000000      5.000000      0.364583   \n",
       "50%        0.000000      8.000000      5.000000      7.000000      0.500000   \n",
       "75%        1.000000     10.000000      6.000000      8.000000      0.604167   \n",
       "max        1.000000     13.000000      6.000000      8.000000      0.963542   \n",
       "\n",
       "       ExtraAlcoholTest  Status  \n",
       "count      50736.000000     0.0  \n",
       "mean           0.497212     NaN  \n",
       "std            0.240270     NaN  \n",
       "min            0.020408     NaN  \n",
       "25%            0.364796     NaN  \n",
       "50%            0.502551     NaN  \n",
       "75%            0.594388     NaN  \n",
       "max            0.938776     NaN  \n",
       "\n",
       "[8 rows x 24 columns]"
      ]
     },
     "execution_count": 8,
     "metadata": {},
     "output_type": "execute_result"
    }
   ],
   "source": [
    "testDataFrame.describe()"
   ]
  },
  {
   "cell_type": "markdown",
   "id": "eff50aaf-dc37-4fad-a5fa-10c28d07043b",
   "metadata": {
    "jp-MarkdownHeadingCollapsed": true
   },
   "source": [
    "# 3. Model Type Comparison"
   ]
  },
  {
   "cell_type": "markdown",
   "id": "19d20765-8ca6-499f-b14e-102719d0a9c5",
   "metadata": {
    "jp-MarkdownHeadingCollapsed": true
   },
   "source": [
    "## 3.1. Logistic Regression"
   ]
  },
  {
   "cell_type": "markdown",
   "id": "0dbfee05-983b-4649-833d-04ef3ab9b6b8",
   "metadata": {},
   "source": [
    "**Usage:**\r\n",
    "- Logistic Regression is commonly used for binary classification tasks.\r\n",
    "- It models the probability of an input belonging to a particular class using the logistic function.\r\n",
    "\r\n",
    "**Pros:**\r\n",
    "- Simple and interpretable model.\r\n",
    "- Fast training and prediction times.\r\n",
    "- Can provide probabilities as outputs.\r\n",
    "- Handles linear relationships well.\r\n",
    "\r\n",
    "**Cons:**\r\n",
    "- Assumes a linear decision boundary, which may not be suitable for complex data.\r\n",
    "- Limited in handling non-linear relationships.\r\n",
    "- Sensitive to outliers."
   ]
  },
  {
   "cell_type": "markdown",
   "id": "b1a0d1bb-3ad5-4da1-953f-0575ee90f532",
   "metadata": {
    "jp-MarkdownHeadingCollapsed": true
   },
   "source": [
    "## 3.2. Decision Trees"
   ]
  },
  {
   "cell_type": "markdown",
   "id": "345218a3-d34e-419a-8e6e-93c471d400e8",
   "metadata": {},
   "source": [
    "**Usage:**\r\n",
    "- Decision Tree is a versatile model used for classification and regression tasks.\r\n",
    "- It recursively partitions the input space into regions based on feature values.\r\n",
    "\r\n",
    "**Pros:**\r\n",
    "- Intuitive and easy to understand, suitable for explaining decisions.\r\n",
    "- Can capture complex interactions between features.\r\n",
    "- Handles non-linear relationships well.\r\n",
    "- No assumption about feature distribution.\r\n",
    "\r\n",
    "**Cons:**\r\n",
    "- Prone to overfitting, especially with deep trees.\r\n",
    "- May not generalize well to unseen data without proper regularization.\r\n",
    "- Can be sensitive to small variations in the data."
   ]
  },
  {
   "cell_type": "markdown",
   "id": "d4791abb-9588-4150-8907-5c631aa50a85",
   "metadata": {
    "jp-MarkdownHeadingCollapsed": true
   },
   "source": [
    "## 3.3. Random Forest"
   ]
  },
  {
   "cell_type": "markdown",
   "id": "9e060765-9b10-4a58-b234-8a9974fcc60d",
   "metadata": {},
   "source": [
    "**Usage:**\n",
    "- Random Forest is an ensemble learning method based on decision trees.\n",
    "- It aggregates predictions from multiple decision trees trained on random subsets of data and features.\n",
    "\n",
    "**Pros:**\n",
    "- Reduces overfitting and improves robustness compared to individual decision trees.\n",
    "- High accuracy and scalability.\n",
    "- Handles complex data well.\n",
    "- Can provide feature importance rankings.\n",
    "\n",
    "**Cons:**\n",
    "- More complex and computationally expensive compared to individual decision trees.\n",
    "- Can be challenging to interpret compared to single decision trees.\n",
    "- May not perform well with highly imbalanced data."
   ]
  },
  {
   "cell_type": "markdown",
   "id": "2f2bbdce-e551-41e9-ba3c-24093eadbf5b",
   "metadata": {
    "jp-MarkdownHeadingCollapsed": true
   },
   "source": [
    "# 4. Model Performance Evaluation"
   ]
  },
  {
   "cell_type": "markdown",
   "id": "ff89e806-5e48-4b5f-a5c2-bfb56df2c88d",
   "metadata": {},
   "source": [
    "## Evaluation Metrics: F1 Score vs. Accuracy\n",
    "\n",
    "In this project, we evaluate the performance of our machine learning model using two main metrics: accuracy and F1 score.\n",
    "\n",
    "**Accuracy** is a widely-used metric that measures the proportion of correctly classified instances out of the total instances. While accuracy provides a general overview of the model's performance, it may not be suitable for imbalanced datasets, such as medical diagnosis tasks, where one class is significantly more prevalent than the other. In such cases, accuracy might be misleading as it can be biased towards the majority class.\n",
    "\n",
    "**F1 Score**, on the other hand, is a metric that considers both precision and recall. It provides a balance between the two, making it particularly useful for tasks where there is an imbalance between classes or when the costs of false positives and false negatives differ. In medical diagnosis, for instance, false positives and false negatives can have significantly different consequences. Therefore, prioritizing F1 score allows us to find a balance between minimizing both types of errors.\n",
    "\n",
    "Given the importance of accurately predicting diabetes diagnosis and the potential consequences of misclassifications in medical settings, we prioritize **F1 score** as our primary evaluation metric in this project.\n",
    "\n",
    "However, we'll utilize the **'classification report'** function in Python to gain a comprehensive understanding of our model's performance. This report includes precision, recall, support, accuracy, and F1 score, providing valuable insights into various aspects of model performance."
   ]
  },
  {
   "cell_type": "markdown",
   "id": "59ab1756-414f-42d5-bd76-6f4fa61525fb",
   "metadata": {},
   "source": [
    "## Performance Improvement Criteria\n",
    "\n",
    "Our performance improvement criteria aim for an F1 score of **87~92%**."
   ]
  },
  {
   "cell_type": "markdown",
   "id": "bec18c2f-422a-4915-8425-6de051a41c20",
   "metadata": {},
   "source": [
    "# 5. Set common varaibles"
   ]
  },
  {
   "cell_type": "markdown",
   "id": "90b6d80e-5731-4272-a326-9beb0b5bfe09",
   "metadata": {},
   "source": [
    "## 5.1. Separate features x and target y "
   ]
  },
  {
   "cell_type": "code",
   "execution_count": 10,
   "id": "753ec99f-659d-4ad4-af5a-0fa6d91ef097",
   "metadata": {},
   "outputs": [],
   "source": [
    "# Separate our features (X) and target (Y)\n",
    "train_x = trainDataFrame.drop([\"Status\"], axis=1)\n",
    "train_y = trainDataFrame[[\"Status\"]]"
   ]
  },
  {
   "cell_type": "code",
   "execution_count": 10,
   "id": "1dc2da49-4f56-4115-8434-15f029739722",
   "metadata": {},
   "outputs": [
    {
     "data": {
      "text/html": [
       "<div>\n",
       "<style scoped>\n",
       "    .dataframe tbody tr th:only-of-type {\n",
       "        vertical-align: middle;\n",
       "    }\n",
       "\n",
       "    .dataframe tbody tr th {\n",
       "        vertical-align: top;\n",
       "    }\n",
       "\n",
       "    .dataframe thead th {\n",
       "        text-align: right;\n",
       "    }\n",
       "</style>\n",
       "<table border=\"1\" class=\"dataframe\">\n",
       "  <thead>\n",
       "    <tr style=\"text-align: right;\">\n",
       "      <th></th>\n",
       "      <th>HighBP</th>\n",
       "      <th>HighChol</th>\n",
       "      <th>CholCheck</th>\n",
       "      <th>BMI</th>\n",
       "      <th>Smoker</th>\n",
       "      <th>Stroke</th>\n",
       "      <th>HeartDiseaseorAttack</th>\n",
       "      <th>PhysActivity</th>\n",
       "      <th>Fruits</th>\n",
       "      <th>Veggies</th>\n",
       "      <th>...</th>\n",
       "      <th>GenHlth</th>\n",
       "      <th>MentHlth</th>\n",
       "      <th>PhysHlth</th>\n",
       "      <th>DiffWalk</th>\n",
       "      <th>Sex</th>\n",
       "      <th>Age</th>\n",
       "      <th>Education</th>\n",
       "      <th>Income</th>\n",
       "      <th>ExtraMedTest</th>\n",
       "      <th>ExtraAlcoholTest</th>\n",
       "    </tr>\n",
       "  </thead>\n",
       "  <tbody>\n",
       "    <tr>\n",
       "      <th>0</th>\n",
       "      <td>0</td>\n",
       "      <td>0</td>\n",
       "      <td>1</td>\n",
       "      <td>0.375000</td>\n",
       "      <td>1</td>\n",
       "      <td>0</td>\n",
       "      <td>0</td>\n",
       "      <td>1</td>\n",
       "      <td>0</td>\n",
       "      <td>1</td>\n",
       "      <td>...</td>\n",
       "      <td>2</td>\n",
       "      <td>0.0</td>\n",
       "      <td>0.0</td>\n",
       "      <td>0</td>\n",
       "      <td>0</td>\n",
       "      <td>8</td>\n",
       "      <td>4</td>\n",
       "      <td>5</td>\n",
       "      <td>0.812500</td>\n",
       "      <td>0.502551</td>\n",
       "    </tr>\n",
       "    <tr>\n",
       "      <th>1</th>\n",
       "      <td>0</td>\n",
       "      <td>0</td>\n",
       "      <td>1</td>\n",
       "      <td>0.517857</td>\n",
       "      <td>0</td>\n",
       "      <td>0</td>\n",
       "      <td>0</td>\n",
       "      <td>1</td>\n",
       "      <td>1</td>\n",
       "      <td>1</td>\n",
       "      <td>...</td>\n",
       "      <td>1</td>\n",
       "      <td>0.2</td>\n",
       "      <td>0.0</td>\n",
       "      <td>0</td>\n",
       "      <td>0</td>\n",
       "      <td>2</td>\n",
       "      <td>6</td>\n",
       "      <td>8</td>\n",
       "      <td>0.500000</td>\n",
       "      <td>0.176020</td>\n",
       "    </tr>\n",
       "    <tr>\n",
       "      <th>2</th>\n",
       "      <td>0</td>\n",
       "      <td>0</td>\n",
       "      <td>1</td>\n",
       "      <td>0.803571</td>\n",
       "      <td>1</td>\n",
       "      <td>0</td>\n",
       "      <td>0</td>\n",
       "      <td>1</td>\n",
       "      <td>1</td>\n",
       "      <td>0</td>\n",
       "      <td>...</td>\n",
       "      <td>3</td>\n",
       "      <td>1.0</td>\n",
       "      <td>1.0</td>\n",
       "      <td>1</td>\n",
       "      <td>0</td>\n",
       "      <td>3</td>\n",
       "      <td>2</td>\n",
       "      <td>1</td>\n",
       "      <td>0.260417</td>\n",
       "      <td>0.502551</td>\n",
       "    </tr>\n",
       "    <tr>\n",
       "      <th>3</th>\n",
       "      <td>0</td>\n",
       "      <td>1</td>\n",
       "      <td>1</td>\n",
       "      <td>0.767857</td>\n",
       "      <td>0</td>\n",
       "      <td>0</td>\n",
       "      <td>0</td>\n",
       "      <td>1</td>\n",
       "      <td>1</td>\n",
       "      <td>1</td>\n",
       "      <td>...</td>\n",
       "      <td>3</td>\n",
       "      <td>0.0</td>\n",
       "      <td>0.0</td>\n",
       "      <td>0</td>\n",
       "      <td>0</td>\n",
       "      <td>8</td>\n",
       "      <td>6</td>\n",
       "      <td>8</td>\n",
       "      <td>0.067708</td>\n",
       "      <td>0.507653</td>\n",
       "    </tr>\n",
       "    <tr>\n",
       "      <th>4</th>\n",
       "      <td>0</td>\n",
       "      <td>1</td>\n",
       "      <td>1</td>\n",
       "      <td>0.482143</td>\n",
       "      <td>0</td>\n",
       "      <td>0</td>\n",
       "      <td>0</td>\n",
       "      <td>1</td>\n",
       "      <td>0</td>\n",
       "      <td>1</td>\n",
       "      <td>...</td>\n",
       "      <td>3</td>\n",
       "      <td>0.0</td>\n",
       "      <td>0.0</td>\n",
       "      <td>0</td>\n",
       "      <td>0</td>\n",
       "      <td>9</td>\n",
       "      <td>5</td>\n",
       "      <td>4</td>\n",
       "      <td>0.197917</td>\n",
       "      <td>0.502551</td>\n",
       "    </tr>\n",
       "  </tbody>\n",
       "</table>\n",
       "<p>5 rows × 23 columns</p>\n",
       "</div>"
      ],
      "text/plain": [
       "   HighBP  HighChol  CholCheck       BMI  Smoker  Stroke  \\\n",
       "0       0         0          1  0.375000       1       0   \n",
       "1       0         0          1  0.517857       0       0   \n",
       "2       0         0          1  0.803571       1       0   \n",
       "3       0         1          1  0.767857       0       0   \n",
       "4       0         1          1  0.482143       0       0   \n",
       "\n",
       "   HeartDiseaseorAttack  PhysActivity  Fruits  Veggies  ...  GenHlth  \\\n",
       "0                     0             1       0        1  ...        2   \n",
       "1                     0             1       1        1  ...        1   \n",
       "2                     0             1       1        0  ...        3   \n",
       "3                     0             1       1        1  ...        3   \n",
       "4                     0             1       0        1  ...        3   \n",
       "\n",
       "   MentHlth  PhysHlth  DiffWalk  Sex  Age  Education  Income  ExtraMedTest  \\\n",
       "0       0.0       0.0         0    0    8          4       5      0.812500   \n",
       "1       0.2       0.0         0    0    2          6       8      0.500000   \n",
       "2       1.0       1.0         1    0    3          2       1      0.260417   \n",
       "3       0.0       0.0         0    0    8          6       8      0.067708   \n",
       "4       0.0       0.0         0    0    9          5       4      0.197917   \n",
       "\n",
       "   ExtraAlcoholTest  \n",
       "0          0.502551  \n",
       "1          0.176020  \n",
       "2          0.502551  \n",
       "3          0.507653  \n",
       "4          0.502551  \n",
       "\n",
       "[5 rows x 23 columns]"
      ]
     },
     "execution_count": 10,
     "metadata": {},
     "output_type": "execute_result"
    }
   ],
   "source": [
    "train_x.head()"
   ]
  },
  {
   "cell_type": "code",
   "execution_count": 11,
   "id": "6c8d1c06-d5b3-40fc-b82a-a2775a46205d",
   "metadata": {},
   "outputs": [
    {
     "data": {
      "text/html": [
       "<div>\n",
       "<style scoped>\n",
       "    .dataframe tbody tr th:only-of-type {\n",
       "        vertical-align: middle;\n",
       "    }\n",
       "\n",
       "    .dataframe tbody tr th {\n",
       "        vertical-align: top;\n",
       "    }\n",
       "\n",
       "    .dataframe thead th {\n",
       "        text-align: right;\n",
       "    }\n",
       "</style>\n",
       "<table border=\"1\" class=\"dataframe\">\n",
       "  <thead>\n",
       "    <tr style=\"text-align: right;\">\n",
       "      <th></th>\n",
       "      <th>Status</th>\n",
       "    </tr>\n",
       "  </thead>\n",
       "  <tbody>\n",
       "    <tr>\n",
       "      <th>0</th>\n",
       "      <td>0</td>\n",
       "    </tr>\n",
       "    <tr>\n",
       "      <th>1</th>\n",
       "      <td>0</td>\n",
       "    </tr>\n",
       "    <tr>\n",
       "      <th>2</th>\n",
       "      <td>0</td>\n",
       "    </tr>\n",
       "    <tr>\n",
       "      <th>3</th>\n",
       "      <td>0</td>\n",
       "    </tr>\n",
       "    <tr>\n",
       "      <th>4</th>\n",
       "      <td>0</td>\n",
       "    </tr>\n",
       "  </tbody>\n",
       "</table>\n",
       "</div>"
      ],
      "text/plain": [
       "   Status\n",
       "0       0\n",
       "1       0\n",
       "2       0\n",
       "3       0\n",
       "4       0"
      ]
     },
     "execution_count": 11,
     "metadata": {},
     "output_type": "execute_result"
    }
   ],
   "source": [
    "train_y.head()"
   ]
  },
  {
   "cell_type": "markdown",
   "id": "039a3828-9b23-4a48-afde-103c36aa7dc4",
   "metadata": {
    "jp-MarkdownHeadingCollapsed": true
   },
   "source": [
    "## 5.2. Cross-validation (K-fold)"
   ]
  },
  {
   "cell_type": "code",
   "execution_count": 12,
   "id": "96ea29af-0c8b-4a6f-9339-26cf3c39e1b1",
   "metadata": {},
   "outputs": [],
   "source": [
    "cv = KFold(\n",
    "    n_splits=4,    \n",
    "    shuffle=True,\n",
    "    random_state=0 \n",
    ")"
   ]
  },
  {
   "cell_type": "markdown",
   "id": "241d17a5-a9d2-4899-a189-4acdc767b605",
   "metadata": {},
   "source": [
    "# 6. Logistic Regression Model Development"
   ]
  },
  {
   "cell_type": "markdown",
   "id": "eddefbac-28a2-401d-bed8-12a7cca61faa",
   "metadata": {},
   "source": [
    "#### Split the data sets into Train & Validation sets"
   ]
  },
  {
   "cell_type": "code",
   "execution_count": 11,
   "id": "b9965e91-b289-488f-b318-bd1812e7ccc4",
   "metadata": {},
   "outputs": [
    {
     "name": "stdout",
     "output_type": "stream",
     "text": [
      "train_x shape:(267368, 23)\n",
      "val_x shape:(66842, 23)\n",
      "train_y shape:(267368, 1)\n",
      "val_y shape:(66842, 1)\n"
     ]
    }
   ],
   "source": [
    "logistic_baseline_train_x, logistic_baseline_val_x, logistic_baseline_train_y, logistic_baseline_val_y = train_test_split(np.array(train_x), np.array(train_y), shuffle=True,\n",
    "    random_state=0, test_size=0.2)\n",
    "print(f\"train_x shape:{logistic_baseline_train_x.shape}\")\n",
    "print(f\"val_x shape:{logistic_baseline_val_x.shape}\")\n",
    "print(f\"train_y shape:{logistic_baseline_train_y.shape}\")\n",
    "print(f\"val_y shape:{logistic_baseline_val_y.shape}\")"
   ]
  },
  {
   "cell_type": "markdown",
   "id": "ae52af4c-4c30-41be-ab95-5eadcdb63052",
   "metadata": {
    "jp-MarkdownHeadingCollapsed": true
   },
   "source": [
    "## 6.1. Logistic Regression Linear Model"
   ]
  },
  {
   "cell_type": "markdown",
   "id": "de560de6-e7ef-4072-bc9a-58ca5b6edaac",
   "metadata": {},
   "source": [
    "### 6.1.1. Train the model"
   ]
  },
  {
   "cell_type": "markdown",
   "id": "aac237a7-8727-463b-8653-61fa12463aee",
   "metadata": {},
   "source": [
    "#### 6.1.1.1. Tune the Hyperparameters"
   ]
  },
  {
   "cell_type": "code",
   "execution_count": 14,
   "id": "d3e9132c-16f0-4515-817f-cc0f61e3ac92",
   "metadata": {},
   "outputs": [
    {
     "name": "stdout",
     "output_type": "stream",
     "text": [
      "Best hyperparameters: {'C': 1}\n"
     ]
    }
   ],
   "source": [
    "# Define logistic regression model\n",
    "logistic = LogisticRegression(max_iter=1000,  # Maximum number of iterations for the solver to converge\n",
    "                              solver='liblinear',  # Optimization algorithm used by the logistic regression model to find the optimal coefficients\n",
    "                              penalty='l2'  # Regularization type: L2 penalty\n",
    "                              )\n",
    "\n",
    "# Define grid of hyperparameters to search over\n",
    "linear_param_grid = {'C': [1, 10, 100, 1000, 10000]}  # Regularization strength parameter\n",
    "\n",
    "# Perform grid search with cross-validation \n",
    "grid_search = GridSearchCV(logistic, linear_param_grid, cv=cv)\n",
    "grid_search.fit(logistic_baseline_train_x, logistic_baseline_train_y.ravel())\n",
    "\n",
    "# Print best hyperparameters\n",
    "print(\"Best hyperparameters:\", grid_search.best_params_)"
   ]
  },
  {
   "cell_type": "markdown",
   "id": "ebe74969-5322-48f2-b169-846a9ec6a92d",
   "metadata": {},
   "source": [
    "- The logistic regression model in this code snippet utilizes the 'liblinear' solver, an optimization algorithm employed to determine the optimal coefficients for logistic regression.\n",
    "\n",
    "- Regularization is applied to prevent overfitting. In this case, L2 penalty (Ridge regularization) is employed by default, as indicated by the 'penalty' parameter. L2 regularization was chosen over L1 due to its superior handling of multicollinearity and provision of smoother coefficient estimates. Additionally the effect of regularization on the coefficients of features indirectly influences which features are considered important in the model.e.\n",
    "\n",
    "- Cross-validation is performed using a custom cross-validation splitter `cv`, configured as a 4-fold `KFold` with shuffling and a specified random state.\n"
   ]
  },
  {
   "cell_type": "markdown",
   "id": "fbf49e32-e9dc-44a0-a4d4-198e2242bd93",
   "metadata": {},
   "source": [
    "#### 6.1.1.2. Get the model with the best hyperparameter"
   ]
  },
  {
   "cell_type": "code",
   "execution_count": 15,
   "id": "861d874d-912d-43dd-a625-e6f4ea0c9476",
   "metadata": {},
   "outputs": [
    {
     "data": {
      "text/html": [
       "<style>#sk-container-id-1 {color: black;background-color: white;}#sk-container-id-1 pre{padding: 0;}#sk-container-id-1 div.sk-toggleable {background-color: white;}#sk-container-id-1 label.sk-toggleable__label {cursor: pointer;display: block;width: 100%;margin-bottom: 0;padding: 0.3em;box-sizing: border-box;text-align: center;}#sk-container-id-1 label.sk-toggleable__label-arrow:before {content: \"▸\";float: left;margin-right: 0.25em;color: #696969;}#sk-container-id-1 label.sk-toggleable__label-arrow:hover:before {color: black;}#sk-container-id-1 div.sk-estimator:hover label.sk-toggleable__label-arrow:before {color: black;}#sk-container-id-1 div.sk-toggleable__content {max-height: 0;max-width: 0;overflow: hidden;text-align: left;background-color: #f0f8ff;}#sk-container-id-1 div.sk-toggleable__content pre {margin: 0.2em;color: black;border-radius: 0.25em;background-color: #f0f8ff;}#sk-container-id-1 input.sk-toggleable__control:checked~div.sk-toggleable__content {max-height: 200px;max-width: 100%;overflow: auto;}#sk-container-id-1 input.sk-toggleable__control:checked~label.sk-toggleable__label-arrow:before {content: \"▾\";}#sk-container-id-1 div.sk-estimator input.sk-toggleable__control:checked~label.sk-toggleable__label {background-color: #d4ebff;}#sk-container-id-1 div.sk-label input.sk-toggleable__control:checked~label.sk-toggleable__label {background-color: #d4ebff;}#sk-container-id-1 input.sk-hidden--visually {border: 0;clip: rect(1px 1px 1px 1px);clip: rect(1px, 1px, 1px, 1px);height: 1px;margin: -1px;overflow: hidden;padding: 0;position: absolute;width: 1px;}#sk-container-id-1 div.sk-estimator {font-family: monospace;background-color: #f0f8ff;border: 1px dotted black;border-radius: 0.25em;box-sizing: border-box;margin-bottom: 0.5em;}#sk-container-id-1 div.sk-estimator:hover {background-color: #d4ebff;}#sk-container-id-1 div.sk-parallel-item::after {content: \"\";width: 100%;border-bottom: 1px solid gray;flex-grow: 1;}#sk-container-id-1 div.sk-label:hover label.sk-toggleable__label {background-color: #d4ebff;}#sk-container-id-1 div.sk-serial::before {content: \"\";position: absolute;border-left: 1px solid gray;box-sizing: border-box;top: 0;bottom: 0;left: 50%;z-index: 0;}#sk-container-id-1 div.sk-serial {display: flex;flex-direction: column;align-items: center;background-color: white;padding-right: 0.2em;padding-left: 0.2em;position: relative;}#sk-container-id-1 div.sk-item {position: relative;z-index: 1;}#sk-container-id-1 div.sk-parallel {display: flex;align-items: stretch;justify-content: center;background-color: white;position: relative;}#sk-container-id-1 div.sk-item::before, #sk-container-id-1 div.sk-parallel-item::before {content: \"\";position: absolute;border-left: 1px solid gray;box-sizing: border-box;top: 0;bottom: 0;left: 50%;z-index: -1;}#sk-container-id-1 div.sk-parallel-item {display: flex;flex-direction: column;z-index: 1;position: relative;background-color: white;}#sk-container-id-1 div.sk-parallel-item:first-child::after {align-self: flex-end;width: 50%;}#sk-container-id-1 div.sk-parallel-item:last-child::after {align-self: flex-start;width: 50%;}#sk-container-id-1 div.sk-parallel-item:only-child::after {width: 0;}#sk-container-id-1 div.sk-dashed-wrapped {border: 1px dashed gray;margin: 0 0.4em 0.5em 0.4em;box-sizing: border-box;padding-bottom: 0.4em;background-color: white;}#sk-container-id-1 div.sk-label label {font-family: monospace;font-weight: bold;display: inline-block;line-height: 1.2em;}#sk-container-id-1 div.sk-label-container {text-align: center;}#sk-container-id-1 div.sk-container {/* jupyter's `normalize.less` sets `[hidden] { display: none; }` but bootstrap.min.css set `[hidden] { display: none !important; }` so we also need the `!important` here to be able to override the default hidden behavior on the sphinx rendered scikit-learn.org. See: https://github.com/scikit-learn/scikit-learn/issues/21755 */display: inline-block !important;position: relative;}#sk-container-id-1 div.sk-text-repr-fallback {display: none;}</style><div id=\"sk-container-id-1\" class=\"sk-top-container\"><div class=\"sk-text-repr-fallback\"><pre>LogisticRegression(C=1, solver=&#x27;liblinear&#x27;)</pre><b>In a Jupyter environment, please rerun this cell to show the HTML representation or trust the notebook. <br />On GitHub, the HTML representation is unable to render, please try loading this page with nbviewer.org.</b></div><div class=\"sk-container\" hidden><div class=\"sk-item\"><div class=\"sk-estimator sk-toggleable\"><input class=\"sk-toggleable__control sk-hidden--visually\" id=\"sk-estimator-id-1\" type=\"checkbox\" checked><label for=\"sk-estimator-id-1\" class=\"sk-toggleable__label sk-toggleable__label-arrow\">LogisticRegression</label><div class=\"sk-toggleable__content\"><pre>LogisticRegression(C=1, solver=&#x27;liblinear&#x27;)</pre></div></div></div></div></div>"
      ],
      "text/plain": [
       "LogisticRegression(C=1, solver='liblinear')"
      ]
     },
     "execution_count": 15,
     "metadata": {},
     "output_type": "execute_result"
    }
   ],
   "source": [
    "# Train model with best hyperparameters\n",
    "best_logistic = LogisticRegression(C=grid_search.best_params_['C'], solver='liblinear', penalty='l2')\n",
    "best_logistic.fit(logistic_baseline_train_x, logistic_baseline_train_y.ravel())"
   ]
  },
  {
   "cell_type": "markdown",
   "id": "ed2ec652-f52e-4728-ac5c-22a3a60946f0",
   "metadata": {},
   "source": [
    "#### Save the model"
   ]
  },
  {
   "cell_type": "code",
   "execution_count": 77,
   "id": "f7959785-55f0-458a-aaf8-fab16d75d8b4",
   "metadata": {},
   "outputs": [],
   "source": [
    "# Save the model to a file\n",
    "dump(best_logistic, '../data/best_linear_model.joblib')"
   ]
  },
  {
   "cell_type": "code",
   "execution_count": 12,
   "id": "96c87587-6ef2-4756-8077-f6eb84ebe889",
   "metadata": {},
   "outputs": [],
   "source": [
    "# Load the model from the file\n",
    "best_linear_loaded_model = load('../data/best_linear_model.joblib')"
   ]
  },
  {
   "cell_type": "code",
   "execution_count": 13,
   "id": "e7de8b75-7a50-45a1-89ee-5f9d92bff5c9",
   "metadata": {},
   "outputs": [],
   "source": [
    "best_logistic = best_linear_loaded_model"
   ]
  },
  {
   "cell_type": "markdown",
   "id": "38415da3-c6c9-4758-8ef1-251da47331e1",
   "metadata": {},
   "source": [
    "### 6.1.2. Model Performance"
   ]
  },
  {
   "cell_type": "code",
   "execution_count": 14,
   "id": "b5299aa5-e671-4f53-9848-c4b2dedcab8e",
   "metadata": {},
   "outputs": [],
   "source": [
    "# Make predictions\n",
    "best_logistic_train_pred_y = best_logistic.predict(logistic_baseline_train_x)\n",
    "best_logistic_val_pred_y = best_logistic.predict(logistic_baseline_val_x)"
   ]
  },
  {
   "cell_type": "code",
   "execution_count": 15,
   "id": "a542e286-9bc2-46f1-9f7b-0e426b7baf25",
   "metadata": {},
   "outputs": [
    {
     "name": "stdout",
     "output_type": "stream",
     "text": [
      "\n",
      "Logistic Regression Linear Train Model's Overall Performance:\n",
      "              precision    recall  f1-score   support\n",
      "\n",
      "           0       0.80      0.80      0.80    133398\n",
      "           1       0.80      0.80      0.80    133970\n",
      "\n",
      "    accuracy                           0.80    267368\n",
      "   macro avg       0.80      0.80      0.80    267368\n",
      "weighted avg       0.80      0.80      0.80    267368\n",
      "\n",
      "\n",
      "Logistic Regression Linear Validation Model's Overall Performance:\n",
      "              precision    recall  f1-score   support\n",
      "\n",
      "           0       0.80      0.80      0.80     33707\n",
      "           1       0.79      0.80      0.80     33135\n",
      "\n",
      "    accuracy                           0.80     66842\n",
      "   macro avg       0.80      0.80      0.80     66842\n",
      "weighted avg       0.80      0.80      0.80     66842\n",
      "\n"
     ]
    }
   ],
   "source": [
    "best_logistic_train_performance = classification_report(logistic_baseline_train_y, best_logistic_train_pred_y)\n",
    "best_logistic_val_performance = classification_report(logistic_baseline_val_y, best_logistic_val_pred_y)\n",
    "print(f\"\\nLogistic Regression Linear Train Model's Overall Performance:\\n{best_logistic_train_performance}\")\n",
    "print(f\"\\nLogistic Regression Linear Validation Model's Overall Performance:\\n{best_logistic_val_performance}\")"
   ]
  },
  {
   "cell_type": "code",
   "execution_count": 20,
   "id": "646580ed-d7db-467f-b0f8-2fb44f45bf86",
   "metadata": {},
   "outputs": [],
   "source": [
    "def plot_confusion_matrices(train_y, train_pred_y, val_y, val_pred_y):\n",
    "    # Create confusion matrices\n",
    "    train_matrix = confusion_matrix(train_y, train_pred_y)\n",
    "    val_matrix = confusion_matrix(val_y, val_pred_y)\n",
    "\n",
    "    # Set up the figure with two subplots\n",
    "    fig, axes = plt.subplots(1, 2, figsize=(8, 3))\n",
    "\n",
    "    # Plot the first confusion matrix (for training data)\n",
    "    sns.heatmap(train_matrix, ax=axes[0], square=True, annot=True, cmap='Blues', fmt='d', cbar=True)\n",
    "    axes[0].set_title(\"Training Data Confusion Matrix\")\n",
    "    axes[0].set_ylabel('True Value')\n",
    "    axes[0].set_xlabel('Predicted Value')\n",
    "\n",
    "    # Plot the second confusion matrix (for validation data)\n",
    "    sns.heatmap(val_matrix, ax=axes[1], square=True, annot=True, cmap='Blues', fmt='d', cbar=True)\n",
    "    axes[1].set_title(\"Validation Data Confusion Matrix\")\n",
    "    axes[1].set_ylabel('True Value')\n",
    "    axes[1].set_xlabel('Predicted Value')\n",
    "\n",
    "    # Adjust layout to prevent overlap of labels\n",
    "    plt.tight_layout()\n",
    "\n",
    "    # Show the plots\n",
    "    plt.show()"
   ]
  },
  {
   "cell_type": "code",
   "execution_count": 21,
   "id": "84db57b5-c54c-4e65-a297-6849984f61f3",
   "metadata": {},
   "outputs": [],
   "source": [
    "def plot_roc_curve(train_y, train_pred_y, val_y, val_pred_y):\n",
    "    # Calculate ROC curve for training and validation data\n",
    "    train_fpr, train_tpr, _ = roc_curve(train_y, train_pred_y)\n",
    "    val_fpr, val_tpr, _ = roc_curve(val_y, val_pred_y)\n",
    "\n",
    "    # Plot ROC curve for training and validation data\n",
    "    plt.plot(train_fpr, train_tpr, color='orange', lw=2, label='Train ROC Curve')\n",
    "    plt.plot(val_fpr, val_tpr, color='blue', lw=2, label='Val ROC Curve')\n",
    "    plt.plot([0, 1], [0, 1], color='navy', lw=2, linestyle='--')\n",
    "    plt.xlabel('False Positive Rate')\n",
    "    plt.ylabel('True Positive Rate')\n",
    "    plt.title('ROC Curve')\n",
    "    plt.legend(loc=\"lower right\")\n",
    "\n",
    "    # Show the plot\n",
    "    plt.show()"
   ]
  },
  {
   "cell_type": "code",
   "execution_count": 22,
   "id": "e3e52c4b-1552-4bf8-abf7-3c695ae1b3be",
   "metadata": {},
   "outputs": [],
   "source": [
    "def calculate_roc_auc(train_y, train_pred_y, val_y, val_pred_y):\n",
    "    # Calculate ROC AUC for training and validation data\n",
    "    train_roc_auc = roc_auc_score(train_y, train_pred_y)\n",
    "    val_roc_auc = roc_auc_score(val_y, val_pred_y)\n",
    "\n",
    "    # Print ROC AUC for training and validation data\n",
    "    print(\"Train ROC AUC:\", train_roc_auc)\n",
    "    print(\"Validation ROC AUC:\", val_roc_auc)"
   ]
  },
  {
   "cell_type": "markdown",
   "id": "b046ca88-f499-4efd-84f4-2e9470f8dad5",
   "metadata": {},
   "source": [
    "#### Confusion Matrix"
   ]
  },
  {
   "cell_type": "code",
   "execution_count": 23,
   "id": "73707eeb-8ed2-48bc-aedb-7ce69d471fbe",
   "metadata": {},
   "outputs": [
    {
     "data": {
      "image/png": "[encoded data removed]",
      "text/plain": [
       "<Figure size 800x300 with 4 Axes>"
      ]
     },
     "metadata": {},
     "output_type": "display_data"
    }
   ],
   "source": [
    "plot_confusion_matrices(logistic_baseline_train_y, best_logistic_train_pred_y, logistic_baseline_val_y, best_logistic_val_pred_y)"
   ]
  },
  {
   "cell_type": "markdown",
   "id": "6fd4351b-c839-43ec-8c08-83d2bab800ee",
   "metadata": {},
   "source": [
    "#### ROC Curve"
   ]
  },
  {
   "cell_type": "code",
   "execution_count": 24,
   "id": "a5190c2b-a0bd-422b-b15f-56ae302d9760",
   "metadata": {},
   "outputs": [
    {
     "data": {
      "image/png": "[encoded data removed]",
      "text/plain": [
       "<Figure size 640x480 with 1 Axes>"
      ]
     },
     "metadata": {},
     "output_type": "display_data"
    }
   ],
   "source": [
    "plot_roc_curve(logistic_baseline_train_y, best_logistic_train_pred_y, logistic_baseline_val_y, best_logistic_val_pred_y)"
   ]
  },
  {
   "cell_type": "markdown",
   "id": "fea0deca-639e-4dc7-9b4e-95e23b6061f6",
   "metadata": {},
   "source": [
    "#### ROC AUC"
   ]
  },
  {
   "cell_type": "code",
   "execution_count": 25,
   "id": "bdc1eebb-1ff2-42b4-a2ff-e538f13cfbe0",
   "metadata": {},
   "outputs": [
    {
     "name": "stdout",
     "output_type": "stream",
     "text": [
      "Train ROC AUC: 0.7991472152912608\n",
      "Validation ROC AUC: 0.7970979766791632\n"
     ]
    }
   ],
   "source": [
    "calculate_roc_auc(logistic_baseline_train_y, best_logistic_train_pred_y, logistic_baseline_val_y, best_logistic_val_pred_y)"
   ]
  },
  {
   "cell_type": "markdown",
   "id": "edd016b3-9429-48b7-ab1f-0dd347491fac",
   "metadata": {},
   "source": [
    "## 6.2. Logistic Regression Polynomial Model with Degree 1"
   ]
  },
  {
   "cell_type": "markdown",
   "id": "4fe4198d-88c2-4b80-a816-e5ac453e49b5",
   "metadata": {},
   "source": [
    "### 6.2.1. Train the model"
   ]
  },
  {
   "cell_type": "markdown",
   "id": "90078610-3cbb-4e3d-81bb-c244034b9b6d",
   "metadata": {},
   "source": [
    "#### 6.2.1.1. Feature Selection (RFE)"
   ]
  },
  {
   "cell_type": "code",
   "execution_count": 26,
   "id": "47957b73-c5d5-4e82-b1fc-247a0e882731",
   "metadata": {},
   "outputs": [
    {
     "data": {
      "text/html": [
       "<style>#sk-container-id-2 {color: black;background-color: white;}#sk-container-id-2 pre{padding: 0;}#sk-container-id-2 div.sk-toggleable {background-color: white;}#sk-container-id-2 label.sk-toggleable__label {cursor: pointer;display: block;width: 100%;margin-bottom: 0;padding: 0.3em;box-sizing: border-box;text-align: center;}#sk-container-id-2 label.sk-toggleable__label-arrow:before {content: \"▸\";float: left;margin-right: 0.25em;color: #696969;}#sk-container-id-2 label.sk-toggleable__label-arrow:hover:before {color: black;}#sk-container-id-2 div.sk-estimator:hover label.sk-toggleable__label-arrow:before {color: black;}#sk-container-id-2 div.sk-toggleable__content {max-height: 0;max-width: 0;overflow: hidden;text-align: left;background-color: #f0f8ff;}#sk-container-id-2 div.sk-toggleable__content pre {margin: 0.2em;color: black;border-radius: 0.25em;background-color: #f0f8ff;}#sk-container-id-2 input.sk-toggleable__control:checked~div.sk-toggleable__content {max-height: 200px;max-width: 100%;overflow: auto;}#sk-container-id-2 input.sk-toggleable__control:checked~label.sk-toggleable__label-arrow:before {content: \"▾\";}#sk-container-id-2 div.sk-estimator input.sk-toggleable__control:checked~label.sk-toggleable__label {background-color: #d4ebff;}#sk-container-id-2 div.sk-label input.sk-toggleable__control:checked~label.sk-toggleable__label {background-color: #d4ebff;}#sk-container-id-2 input.sk-hidden--visually {border: 0;clip: rect(1px 1px 1px 1px);clip: rect(1px, 1px, 1px, 1px);height: 1px;margin: -1px;overflow: hidden;padding: 0;position: absolute;width: 1px;}#sk-container-id-2 div.sk-estimator {font-family: monospace;background-color: #f0f8ff;border: 1px dotted black;border-radius: 0.25em;box-sizing: border-box;margin-bottom: 0.5em;}#sk-container-id-2 div.sk-estimator:hover {background-color: #d4ebff;}#sk-container-id-2 div.sk-parallel-item::after {content: \"\";width: 100%;border-bottom: 1px solid gray;flex-grow: 1;}#sk-container-id-2 div.sk-label:hover label.sk-toggleable__label {background-color: #d4ebff;}#sk-container-id-2 div.sk-serial::before {content: \"\";position: absolute;border-left: 1px solid gray;box-sizing: border-box;top: 0;bottom: 0;left: 50%;z-index: 0;}#sk-container-id-2 div.sk-serial {display: flex;flex-direction: column;align-items: center;background-color: white;padding-right: 0.2em;padding-left: 0.2em;position: relative;}#sk-container-id-2 div.sk-item {position: relative;z-index: 1;}#sk-container-id-2 div.sk-parallel {display: flex;align-items: stretch;justify-content: center;background-color: white;position: relative;}#sk-container-id-2 div.sk-item::before, #sk-container-id-2 div.sk-parallel-item::before {content: \"\";position: absolute;border-left: 1px solid gray;box-sizing: border-box;top: 0;bottom: 0;left: 50%;z-index: -1;}#sk-container-id-2 div.sk-parallel-item {display: flex;flex-direction: column;z-index: 1;position: relative;background-color: white;}#sk-container-id-2 div.sk-parallel-item:first-child::after {align-self: flex-end;width: 50%;}#sk-container-id-2 div.sk-parallel-item:last-child::after {align-self: flex-start;width: 50%;}#sk-container-id-2 div.sk-parallel-item:only-child::after {width: 0;}#sk-container-id-2 div.sk-dashed-wrapped {border: 1px dashed gray;margin: 0 0.4em 0.5em 0.4em;box-sizing: border-box;padding-bottom: 0.4em;background-color: white;}#sk-container-id-2 div.sk-label label {font-family: monospace;font-weight: bold;display: inline-block;line-height: 1.2em;}#sk-container-id-2 div.sk-label-container {text-align: center;}#sk-container-id-2 div.sk-container {/* jupyter's `normalize.less` sets `[hidden] { display: none; }` but bootstrap.min.css set `[hidden] { display: none !important; }` so we also need the `!important` here to be able to override the default hidden behavior on the sphinx rendered scikit-learn.org. See: https://github.com/scikit-learn/scikit-learn/issues/21755 */display: inline-block !important;position: relative;}#sk-container-id-2 div.sk-text-repr-fallback {display: none;}</style><div id=\"sk-container-id-2\" class=\"sk-top-container\"><div class=\"sk-text-repr-fallback\"><pre>RFE(estimator=LogisticRegression(max_iter=1000), n_features_to_select=6)</pre><b>In a Jupyter environment, please rerun this cell to show the HTML representation or trust the notebook. <br />On GitHub, the HTML representation is unable to render, please try loading this page with nbviewer.org.</b></div><div class=\"sk-container\" hidden><div class=\"sk-item sk-dashed-wrapped\"><div class=\"sk-label-container\"><div class=\"sk-label sk-toggleable\"><input class=\"sk-toggleable__control sk-hidden--visually\" id=\"sk-estimator-id-2\" type=\"checkbox\" ><label for=\"sk-estimator-id-2\" class=\"sk-toggleable__label sk-toggleable__label-arrow\">RFE</label><div class=\"sk-toggleable__content\"><pre>RFE(estimator=LogisticRegression(max_iter=1000), n_features_to_select=6)</pre></div></div></div><div class=\"sk-parallel\"><div class=\"sk-parallel-item\"><div class=\"sk-item\"><div class=\"sk-label-container\"><div class=\"sk-label sk-toggleable\"><input class=\"sk-toggleable__control sk-hidden--visually\" id=\"sk-estimator-id-3\" type=\"checkbox\" ><label for=\"sk-estimator-id-3\" class=\"sk-toggleable__label sk-toggleable__label-arrow\">estimator: LogisticRegression</label><div class=\"sk-toggleable__content\"><pre>LogisticRegression(max_iter=1000)</pre></div></div></div><div class=\"sk-serial\"><div class=\"sk-item\"><div class=\"sk-estimator sk-toggleable\"><input class=\"sk-toggleable__control sk-hidden--visually\" id=\"sk-estimator-id-4\" type=\"checkbox\" ><label for=\"sk-estimator-id-4\" class=\"sk-toggleable__label sk-toggleable__label-arrow\">LogisticRegression</label><div class=\"sk-toggleable__content\"><pre>LogisticRegression(max_iter=1000)</pre></div></div></div></div></div></div></div></div></div></div>"
      ],
      "text/plain": [
       "RFE(estimator=LogisticRegression(max_iter=1000), n_features_to_select=6)"
      ]
     },
     "execution_count": 26,
     "metadata": {},
     "output_type": "execute_result"
    }
   ],
   "source": [
    "# Instantiate RFE with logistic regression as the estimator\n",
    "rfe = RFE(estimator=LogisticRegression(max_iter=1000), n_features_to_select=6)\n",
    "\n",
    "# Fit RFE to data\n",
    "rfe.fit(logistic_baseline_train_x, logistic_baseline_train_y.ravel())"
   ]
  },
  {
   "cell_type": "code",
   "execution_count": 27,
   "id": "713846b4-7b40-4b6e-8464-1e243d735216",
   "metadata": {},
   "outputs": [
    {
     "name": "stdout",
     "output_type": "stream",
     "text": [
      "Index(['HighBP', 'CholCheck', 'BMI', 'HvyAlcoholConsump', 'ExtraMedTest',\n",
      "       'ExtraAlcoholTest'],\n",
      "      dtype='object')\n"
     ]
    }
   ],
   "source": [
    "# Define the indices of selected features\n",
    "selected_feature_indices = np.where(rfe.support_)[0]\n",
    "\n",
    "# Get selected feature names\n",
    "selected_features = train_x.columns[rfe.support_]\n",
    "print(selected_features)"
   ]
  },
  {
   "cell_type": "markdown",
   "id": "a356c63b-cad9-43a5-8e49-65307c09ba87",
   "metadata": {},
   "source": [
    "#### Save Selected Features"
   ]
  },
  {
   "cell_type": "code",
   "execution_count": 28,
   "id": "228cea37-2bca-4cbe-89d5-8ac61ca1298b",
   "metadata": {},
   "outputs": [
    {
     "data": {
      "text/plain": [
       "['MEAN_selected_feature_indices.joblib']"
      ]
     },
     "execution_count": 28,
     "metadata": {},
     "output_type": "execute_result"
    }
   ],
   "source": [
    "# Save the selected features to files\n",
    "dump(selected_features, '../data/selected_features.joblib')\n",
    "dump(selected_feature_indices, '../data/selected_feature_indices.joblib')"
   ]
  },
  {
   "cell_type": "code",
   "execution_count": 18,
   "id": "325e0eed-62e8-4ea8-8fa2-84fb4d443a2a",
   "metadata": {},
   "outputs": [],
   "source": [
    "# Load it from the file\n",
    "selected_features_loaded = load('../data/selected_features.joblib')\n",
    "selected_feature_indices_loaded = load('../data/selected_feature_indices.joblib')"
   ]
  },
  {
   "cell_type": "code",
   "execution_count": 19,
   "id": "de0bfabe-e71a-48dd-87a5-798c2c05cc84",
   "metadata": {},
   "outputs": [],
   "source": [
    "selected_features = selected_features_loaded\n",
    "selected_feature_indices = selected_feature_indices_loaded"
   ]
  },
  {
   "cell_type": "markdown",
   "id": "da02fa81-dd0e-4297-a252-028bec9da7c2",
   "metadata": {},
   "source": [
    "#### 6.2.1.2. Tune the Hyperparameters"
   ]
  },
  {
   "cell_type": "code",
   "execution_count": 31,
   "id": "766512f4-4ec6-4bbc-9c17-c8363f3b4eae",
   "metadata": {},
   "outputs": [],
   "source": [
    "# Define polynomial logistic regression model pipeline with selected features\n",
    "logistic_poly_1deg_rfe = Pipeline([\n",
    "    ('poly', PolynomialFeatures(degree=1, include_bias=False)),\n",
    "    ('logistic', LogisticRegression(max_iter=100, solver='liblinear', penalty='l2'))\n",
    "])"
   ]
  },
  {
   "cell_type": "markdown",
   "id": "f8134aff-6ded-4227-a197-1b70db7e2411",
   "metadata": {},
   "source": [
    "#### Define param distributions for the logistic regression model\n"
   ]
  },
  {
   "cell_type": "code",
   "execution_count": 32,
   "id": "21b6933c-093c-4fa4-81c2-c3f446ceb9eb",
   "metadata": {},
   "outputs": [],
   "source": [
    "param_distributions = {\n",
    "    'logistic__C': uniform(loc=0, scale=10), \n",
    "}"
   ]
  },
  {
   "cell_type": "code",
   "execution_count": 23,
   "id": "c16bb91b-69c1-4210-8c10-398fc4a62c2c",
   "metadata": {},
   "outputs": [],
   "source": [
    "# Use the selected feature indices to subset the training and validation data\n",
    "logistic_baseline_train_x_selected = logistic_baseline_train_x[:, selected_feature_indices]\n",
    "logistic_baseline_val_x_selected = logistic_baseline_val_x[:, selected_feature_indices]"
   ]
  },
  {
   "cell_type": "code",
   "execution_count": 34,
   "id": "19dd8394-b9f9-432f-b1bc-0fa6e8bb3ce3",
   "metadata": {},
   "outputs": [
    {
     "name": "stdout",
     "output_type": "stream",
     "text": [
      "Best hyperparameters: {'logistic__C': 0.5808361216819946}\n"
     ]
    }
   ],
   "source": [
    "# Perform randomized search with cross-validation\n",
    "random_search = RandomizedSearchCV(logistic_poly_1deg_rfe, param_distributions, n_iter=10, cv=cv, random_state=42)\n",
    "random_search.fit(logistic_baseline_train_x_selected, logistic_baseline_train_y.ravel())\n",
    "\n",
    "# Print best hyperparameters\n",
    "print(\"Best hyperparameters:\", random_search.best_params_)"
   ]
  },
  {
   "cell_type": "markdown",
   "id": "8d19da7a-1da9-4f55-b7f2-ef4ed3c4e577",
   "metadata": {},
   "source": [
    "- The logistic regression model in this code snippet utilizes the 'liblinear' solver, an optimization algorithm employed to determine the optimal coefficients for logistic regression.\n",
    "\n",
    "- Regularization is applied to prevent overfitting. In this case, L2 penalty (Ridge regularization) is employed by default, as indicated by the 'penalty' parameter. L2 regularization was chosen over L1 due to its superior handling of multicollinearity and provision of smoother coefficient estimates. Additionally, the effect of regularization on the coefficients of features indirectly influences which features are considered important in the model.\n",
    "\n",
    "- Cross-validation is performed using a custom cross-validation splitter `cv`, configured as a 4-fold `KFold` with shuffling and a specified random state.\n"
   ]
  },
  {
   "cell_type": "markdown",
   "id": "6135d288-4d20-4de7-a837-3f923974238a",
   "metadata": {},
   "source": [
    "#### 6.2.1.3. Get the model with the best hyperparameter"
   ]
  },
  {
   "cell_type": "code",
   "execution_count": 35,
   "id": "3bc01c4e-8c99-4e3e-8230-f13283c72efd",
   "metadata": {},
   "outputs": [],
   "source": [
    "# Train model with best hyperparameters\n",
    "best_poly1 = random_search.best_estimator_"
   ]
  },
  {
   "cell_type": "markdown",
   "id": "77484cb3-a6fa-40ee-9087-bfc9aa907bde",
   "metadata": {},
   "source": [
    "#### Save the model"
   ]
  },
  {
   "cell_type": "code",
   "execution_count": 36,
   "id": "3d6e41ce-9548-4149-aedc-6f0372f8fe27",
   "metadata": {},
   "outputs": [],
   "source": [
    "# Save the model to a file\n",
    "dump(best_poly1, '../data/best_poly1_model.joblib')"
   ]
  },
  {
   "cell_type": "code",
   "execution_count": 16,
   "id": "ec652c3f-5313-47b6-8167-cbad0f5913b2",
   "metadata": {},
   "outputs": [],
   "source": [
    "# Load the model from the file\n",
    "best_poly1_loaded_model = load('../data/best_poly1_model.joblib')"
   ]
  },
  {
   "cell_type": "code",
   "execution_count": 17,
   "id": "47333b16-e4ab-432b-8892-83a0bc9a2b64",
   "metadata": {},
   "outputs": [],
   "source": [
    "best_poly1 = best_poly1_loaded_model"
   ]
  },
  {
   "cell_type": "markdown",
   "id": "e8d72c0f-ba19-40a1-a6ee-d54319b8cc99",
   "metadata": {},
   "source": [
    "### 6.2.2. Model Performance"
   ]
  },
  {
   "cell_type": "code",
   "execution_count": 24,
   "id": "e9155995-b152-4e90-ba92-8870a04ad156",
   "metadata": {},
   "outputs": [],
   "source": [
    "# Make predictions\n",
    "logistic_poly1_train_pred_y = best_poly1.predict(logistic_baseline_train_x_selected)\n",
    "logistic_poly1_val_pred_y = best_poly1.predict(logistic_baseline_val_x_selected)"
   ]
  },
  {
   "cell_type": "code",
   "execution_count": 39,
   "id": "b75508cb-d9e2-4e39-b3d8-3b5499a0d9fe",
   "metadata": {},
   "outputs": [
    {
     "name": "stdout",
     "output_type": "stream",
     "text": [
      "\n",
      "Logistic Regression Polynomial Degree 1 Train Model's Overall Performance:\n",
      "              precision    recall  f1-score   support\n",
      "\n",
      "           0       0.78      0.78      0.78    133398\n",
      "           1       0.79      0.79      0.79    133970\n",
      "\n",
      "    accuracy                           0.79    267368\n",
      "   macro avg       0.79      0.79      0.79    267368\n",
      "weighted avg       0.79      0.79      0.79    267368\n",
      "\n",
      "\n",
      "Logistic Regression Polynomial Degree 1 Validation Model's Overall Performance:\n",
      "              precision    recall  f1-score   support\n",
      "\n",
      "           0       0.79      0.79      0.79     33707\n",
      "           1       0.78      0.78      0.78     33135\n",
      "\n",
      "    accuracy                           0.78     66842\n",
      "   macro avg       0.78      0.78      0.78     66842\n",
      "weighted avg       0.78      0.78      0.78     66842\n",
      "\n"
     ]
    }
   ],
   "source": [
    "best_logistic_poly1_train_performance = classification_report(logistic_baseline_train_y, logistic_poly1_train_pred_y)\n",
    "best_logistic_poly1_val_performance = classification_report(logistic_baseline_val_y, logistic_poly1_val_pred_y)\n",
    "print(f\"\\nLogistic Regression Polynomial Degree 1 Train Model's Overall Performance:\\n{best_logistic_poly1_train_performance}\")\n",
    "print(f\"\\nLogistic Regression Polynomial Degree 1 Validation Model's Overall Performance:\\n{best_logistic_poly1_val_performance}\")"
   ]
  },
  {
   "cell_type": "code",
   "execution_count": 40,
   "id": "21dc0ebc-f58e-458f-b50c-9c0e08b8595e",
   "metadata": {},
   "outputs": [
    {
     "data": {
      "image/png": "[encoded data removed]",
      "text/plain": [
       "<Figure size 800x300 with 4 Axes>"
      ]
     },
     "metadata": {},
     "output_type": "display_data"
    }
   ],
   "source": [
    "plot_confusion_matrices(logistic_baseline_train_y, logistic_poly1_train_pred_y, logistic_baseline_val_y, logistic_poly1_val_pred_y)"
   ]
  },
  {
   "cell_type": "markdown",
   "id": "3ba38f2e-a29f-4d0b-b208-777ad711461f",
   "metadata": {},
   "source": [
    "## 6.3. Logistic Regression Polynomial Model with Degree 2"
   ]
  },
  {
   "cell_type": "markdown",
   "id": "594407ca-96d7-4b97-9e84-ca90ef14e7f6",
   "metadata": {},
   "source": [
    "### 6.3.1. Train the model"
   ]
  },
  {
   "cell_type": "markdown",
   "id": "288ee95c-673c-4c9f-8248-d69f21d2a5aa",
   "metadata": {},
   "source": [
    "#### 6.3.1.1. Tune the Hyperparameters"
   ]
  },
  {
   "cell_type": "code",
   "execution_count": 41,
   "id": "98ec6d31-4b6f-4913-a673-47082abadf3e",
   "metadata": {},
   "outputs": [],
   "source": [
    "# Define polynomial logistic regression model pipeline with selected features\n",
    "logistic_poly_2deg_rfe = Pipeline([\n",
    "    ('poly', PolynomialFeatures(degree=2, include_bias=False)),\n",
    "    ('logistic', LogisticRegression(max_iter=100, solver='liblinear', penalty='l2'))\n",
    "])"
   ]
  },
  {
   "cell_type": "code",
   "execution_count": 42,
   "id": "3874c572-cc93-4ced-b66b-4d5ee1bce231",
   "metadata": {},
   "outputs": [
    {
     "name": "stdout",
     "output_type": "stream",
     "text": [
      "Best hyperparameters: {'logistic__C': 3.745401188473625}\n"
     ]
    }
   ],
   "source": [
    "# Perform randomized search with cross-validation\n",
    "random_search2 = RandomizedSearchCV(logistic_poly_2deg_rfe, param_distributions, n_iter=10, cv=cv, random_state=42)\n",
    "random_search2.fit(logistic_baseline_train_x_selected, logistic_baseline_train_y.ravel())\n",
    "\n",
    "# Print best hyperparameters\n",
    "print(\"Best hyperparameters:\", random_search2.best_params_)"
   ]
  },
  {
   "cell_type": "markdown",
   "id": "e2f318c5-eff8-4225-b813-9e835827ed4f",
   "metadata": {},
   "source": [
    "- The logistic regression model in this code snippet utilizes the 'liblinear' solver, an optimization algorithm employed to determine the optimal coefficients for logistic regression.\n",
    "\n",
    "- Regularization is applied to prevent overfitting. In this case, L2 penalty (Ridge regularization) is employed by default, as indicated by the 'penalty' parameter. L2 regularization was chosen over L1 due to its superior handling of multicollinearity and provision of smoother coefficient estimates. Additionally, the effect of regularization on the coefficients of features indirectly influences which features are considered important in the model.\n",
    "\n",
    "- Cross-validation is performed using a custom cross-validation splitter `cv`, configured as a 4-fold `KFold` with shuffling and a specified random state.\n"
   ]
  },
  {
   "cell_type": "markdown",
   "id": "3c693a19-e9e9-4e02-8fce-1eb8dee2514d",
   "metadata": {},
   "source": [
    "#### 6.3.1.2. Get the model with the best hyperparameter"
   ]
  },
  {
   "cell_type": "code",
   "execution_count": 43,
   "id": "8c8efbf6-4182-4546-a285-7a027cc225c6",
   "metadata": {},
   "outputs": [],
   "source": [
    "# Train model with best hyperparameters\n",
    "best_poly2 = random_search.best_estimator_"
   ]
  },
  {
   "cell_type": "markdown",
   "id": "973b34e3-56df-4ffd-812a-96f2519d5cbd",
   "metadata": {},
   "source": [
    "#### Save the model"
   ]
  },
  {
   "cell_type": "code",
   "execution_count": 44,
   "id": "3158abfa-c9e0-4294-a56b-55c4fd428777",
   "metadata": {},
   "outputs": [],
   "source": [
    "# Save the model to a file\n",
    "dump(best_poly2, '../data/best_poly2_model.joblib')"
   ]
  },
  {
   "cell_type": "code",
   "execution_count": 22,
   "id": "243006d4-8477-45eb-a467-19dd860d4593",
   "metadata": {},
   "outputs": [],
   "source": [
    "# Later, to load the model from the file\n",
    "best_poly2_loaded_model = load('../data/best_poly2_model.joblib')"
   ]
  },
  {
   "cell_type": "code",
   "execution_count": 23,
   "id": "1dde44ed-9599-41f5-a4e1-1989ca85b3d3",
   "metadata": {},
   "outputs": [],
   "source": [
    "best_poly2 = best_poly2_loaded_model"
   ]
  },
  {
   "cell_type": "markdown",
   "id": "7307fdb4-4a48-4db3-8a1a-5b69845d3eb0",
   "metadata": {},
   "source": [
    "### 6.3.2. Model Performance"
   ]
  },
  {
   "cell_type": "code",
   "execution_count": 25,
   "id": "95e87b26-abfe-4b12-b8a4-a73de0464177",
   "metadata": {},
   "outputs": [],
   "source": [
    "# Make predictions\n",
    "logistic_poly2_train_pred_y = best_poly2.predict(logistic_baseline_train_x_selected)\n",
    "logistic_poly2_val_pred_y = best_poly2.predict(logistic_baseline_val_x_selected)"
   ]
  },
  {
   "cell_type": "code",
   "execution_count": 47,
   "id": "6cd2686b-2488-488b-888d-3fc5c893af8f",
   "metadata": {},
   "outputs": [
    {
     "name": "stdout",
     "output_type": "stream",
     "text": [
      "\n",
      "Logistic Regression Polynomial Degree 1 Train Model's Overall Performance:\n",
      "              precision    recall  f1-score   support\n",
      "\n",
      "           0       0.78      0.78      0.78    133398\n",
      "           1       0.79      0.79      0.79    133970\n",
      "\n",
      "    accuracy                           0.79    267368\n",
      "   macro avg       0.79      0.79      0.79    267368\n",
      "weighted avg       0.79      0.79      0.79    267368\n",
      "\n",
      "\n",
      "Logistic Regression Polynomial Degree 1 Validation Model's Overall Performance:\n",
      "              precision    recall  f1-score   support\n",
      "\n",
      "           0       0.79      0.79      0.79     33707\n",
      "           1       0.78      0.78      0.78     33135\n",
      "\n",
      "    accuracy                           0.78     66842\n",
      "   macro avg       0.78      0.78      0.78     66842\n",
      "weighted avg       0.78      0.78      0.78     66842\n",
      "\n"
     ]
    }
   ],
   "source": [
    "best_logistic_poly2_train_performance = classification_report(logistic_baseline_train_y, logistic_poly2_train_pred_y)\n",
    "best_logistic_poly2_val_performance = classification_report(logistic_baseline_val_y, logistic_poly2_val_pred_y)\n",
    "print(f\"\\nLogistic Regression Polynomial Degree 1 Train Model's Overall Performance:\\n{best_logistic_poly2_train_performance}\")\n",
    "print(f\"\\nLogistic Regression Polynomial Degree 1 Validation Model's Overall Performance:\\n{best_logistic_poly2_val_performance}\")"
   ]
  },
  {
   "cell_type": "markdown",
   "id": "cb13c9d7-f824-4526-8968-e7ce24334386",
   "metadata": {},
   "source": [
    "#### Confusion Matrix"
   ]
  },
  {
   "cell_type": "code",
   "execution_count": 48,
   "id": "133ba3d3-6dba-4561-85a3-a7154f31678f",
   "metadata": {},
   "outputs": [
    {
     "data": {
      "image/png": "[encoded data removed]",
      "text/plain": [
       "<Figure size 800x300 with 4 Axes>"
      ]
     },
     "metadata": {},
     "output_type": "display_data"
    }
   ],
   "source": [
    "plot_confusion_matrices(logistic_baseline_train_y, logistic_poly2_train_pred_y, logistic_baseline_val_y, logistic_poly2_val_pred_y)"
   ]
  },
  {
   "cell_type": "markdown",
   "id": "03ac3dd6-7364-434d-8842-0d319502de6f",
   "metadata": {},
   "source": [
    "#### ROC Curve"
   ]
  },
  {
   "cell_type": "code",
   "execution_count": 49,
   "id": "87a3659e-6704-45f0-aee7-4cbff92f7f63",
   "metadata": {},
   "outputs": [
    {
     "data": {
      "image/png": "[encoded data removed]",
      "text/plain": [
       "<Figure size 640x480 with 1 Axes>"
      ]
     },
     "metadata": {},
     "output_type": "display_data"
    }
   ],
   "source": [
    "plot_roc_curve(logistic_baseline_train_y, logistic_poly2_train_pred_y, logistic_baseline_val_y, logistic_poly2_val_pred_y)"
   ]
  },
  {
   "cell_type": "markdown",
   "id": "bf6ed88d-5d61-4bb9-89f4-27573892c470",
   "metadata": {},
   "source": [
    "#### ROC AUC"
   ]
  },
  {
   "cell_type": "code",
   "execution_count": 50,
   "id": "9f333207-3f4a-4181-8756-a7ba130a40a7",
   "metadata": {},
   "outputs": [
    {
     "name": "stdout",
     "output_type": "stream",
     "text": [
      "Train ROC AUC: 0.7850788167358149\n",
      "Validation ROC AUC: 0.7834717739446375\n"
     ]
    }
   ],
   "source": [
    "calculate_roc_auc(logistic_baseline_train_y, logistic_poly2_train_pred_y, logistic_baseline_val_y, logistic_poly2_val_pred_y)"
   ]
  },
  {
   "cell_type": "markdown",
   "id": "20d9006f-f926-4876-8205-3926bc8c94e9",
   "metadata": {},
   "source": [
    "## 6.4. Logistic Regression Models Selection"
   ]
  },
  {
   "cell_type": "markdown",
   "id": "51e29ad6-a78d-4f18-9dc3-bd8211b3068e",
   "metadata": {},
   "source": [
    "We evaluated three logistic regression models: linear, polynomial degree 1, and polynomial degree 2, for predicting diabetes onset. Each model achieved an 79% accuracy and F1 score on both the train and validation datasets. Due to computational constraints and the tendency of logistic models to achieve similar results, we opted not to pursue polynomial degrees 3 and 4. Additionally, high-degree polynomials can overfit the data, fitting noise rather than the underlying pattern, potentially leading to poor generalization. "
   ]
  },
  {
   "cell_type": "code",
   "execution_count": 26,
   "id": "a98b4973-985e-418d-9293-922bf80483db",
   "metadata": {},
   "outputs": [],
   "source": [
    "logistic_models = dict()\n",
    "logistic_models[\"linear\"] = best_logistic\n",
    "logistic_models[\"poly1\"] = best_poly1\n",
    "logistic_models[\"poly2\"] = best_poly2"
   ]
  },
  {
   "cell_type": "code",
   "execution_count": 27,
   "id": "190c3e34-00f1-4c8a-a8de-145d49781aaf",
   "metadata": {},
   "outputs": [
    {
     "name": "stdout",
     "output_type": "stream",
     "text": [
      "Model           Train AUC  Train F1   Val AUC    Val F1\n",
      "------------------------------------------------------------\n",
      "linear            0.79915   0.79970   0.79710   0.79557\n",
      "poly1             0.78508   0.78546   0.78347   0.78157\n",
      "poly2             0.78508   0.78546   0.78347   0.78157\n"
     ]
    },
    {
     "data": {
      "image/png": "[encoded data removed]",
      "text/plain": [
       "<Figure size 800x400 with 1 Axes>"
      ]
     },
     "metadata": {},
     "output_type": "display_data"
    }
   ],
   "source": [
    "fig, axis = plt.subplots(figsize=(8, 4))\n",
    "\n",
    "print(f\"{'Model':15}{'Train AUC':>10}{'Train F1':>10}{'Val AUC':>10}{'Val F1':>10}\")\n",
    "print(\"-\" * 60)\n",
    "for name, model in logistic_models.items():\n",
    "    if name == \"linear\":\n",
    "        pred_train_y = best_logistic_train_pred_y\n",
    "        pred_val_y = best_logistic_val_pred_y\n",
    "    elif name == \"poly1\":\n",
    "        pred_train_y = logistic_poly1_train_pred_y\n",
    "        pred_val_y = logistic_poly1_val_pred_y\n",
    "    elif name == \"poly2\":\n",
    "        pred_train_y = logistic_poly2_train_pred_y\n",
    "        pred_val_y = logistic_poly2_val_pred_y\n",
    "\n",
    "    train_fpr, train_tpr, _ = roc_curve(logistic_baseline_train_y.ravel(), pred_train_y.ravel())\n",
    "    val_fpr, val_tpr, _ = roc_curve(logistic_baseline_val_y.ravel(), pred_val_y.ravel())\n",
    "\n",
    "    train_auc = auc(train_fpr, train_tpr)\n",
    "    val_auc = auc(val_fpr, val_tpr)\n",
    "\n",
    "    sns.lineplot(x=train_fpr, y=train_tpr, label=f\"{name} Train (AUC={train_auc:.2f}, F1={f1_score(logistic_baseline_train_y.ravel(), pred_train_y.ravel()):.2f})\", ax=axis)\n",
    "    sns.lineplot(x=val_fpr, y=val_tpr, label=f\"{name} Val (AUC={val_auc:.2f}, F1={f1_score(logistic_baseline_val_y.ravel(), pred_val_y.ravel()):.2f})\", ax=axis)\n",
    "    plt.fill_between(train_fpr, train_tpr, alpha=0.024)\n",
    "    plt.fill_between(val_fpr, val_tpr, alpha=0.024)\n",
    "    print(f\"{name:15}{train_auc:10.5f}{f1_score(logistic_baseline_train_y.ravel(), pred_train_y.ravel()):10.5f}{val_auc:10.5f}{f1_score(logistic_baseline_val_y.ravel(), pred_val_y.ravel()):10.5f}\")\n",
    "\n",
    "plt.plot([0, 1], [0, 1], linestyle=\"--\", color=\"black\", alpha=0.1)\n",
    "axis.set_xlabel(\"False Positive Rate\")\n",
    "axis.set_ylabel(\"True Positive Rate\")\n",
    "axis.set_title(\"ROC Curve - Model Comparison\")\n",
    "axis.legend()\n",
    "\n",
    "plt.show()\n"
   ]
  },
  {
   "cell_type": "markdown",
   "id": "c4ce598c-bddf-4d0c-9180-89c2ea465ee7",
   "metadata": {
    "jp-MarkdownHeadingCollapsed": true
   },
   "source": [
    "## 6.5. Choose the Best Logistic Regression Model"
   ]
  },
  {
   "cell_type": "markdown",
   "id": "9f9d1a1a-6766-4e4c-8bdf-4e701e8b76f8",
   "metadata": {},
   "source": [
    "All models, including linear logistic, polynomial degree 1 logistic, and polynomial degree 2 logistic, achieved identical performance metrics in both training and validation sets, with an F1 score of 0.79 and an AUC of 0.79. Despite the identical performance, we need to determine which logistic regression model is the most suitable.\n",
    "\n",
    "### Choice between Linear and Polynomial Logistic Regression\n",
    "\n",
    "Considering the correlations observed in the exploratory data analysis (EDA) chapter, the following features showed notable correlations with the dependent variable 'Status': 'ExtraMedTest' (0.5), 'ExtraAlcoholTest' (0.5), 'GenHlth' (0.24), 'HighBP' (0.22), 'BMI' (0.18), and 'DiffWalk' (0.18). Although 'ExtraMedTest' and 'ExtraAlcoholTest' exhibit the highest correlation levels of 0.5, indicating a moderate positive linear relationship, other features show weaker correlations. Given the presence of weaker features even after feature selection, it's likely that there are nonlinear patterns or interactions that linear regression may not capture effectively. Therefore, we opt for polynomial regression.\n",
    "\n",
    "### Degree of Polynomial\n",
    "\n",
    "Higher degrees of polynomial regression, such as 3 or 4, were considered potentially prone to overfitting and computationally intensive. Conversely, a polynomial of degree 1 could result in underfitting. A polynomial of degree 2 strikes a balance, offering a moderate level of complexity.\n",
    "\n",
    "### Conclusion\n",
    "\n",
    "In conclusion, we select **the polynomial logistic regression model with degree 2** as the best model among the three logistic regression models. This choice is based on its ability to capture potential nonlinear patterns in the data while avoiding the overfitting risks associated with higher polynomial degrees."
   ]
  },
  {
   "cell_type": "markdown",
   "id": "7e0e5435-9678-4d8b-8cd3-4d61b87e497d",
   "metadata": {
    "jp-MarkdownHeadingCollapsed": true
   },
   "source": [
    "# 7. Decision Tree Model Development"
   ]
  },
  {
   "cell_type": "markdown",
   "id": "a93f4656-e209-4b9c-b641-ad8637877f4b",
   "metadata": {},
   "source": [
    "#### Split the data sets into Train & Validation sets"
   ]
  },
  {
   "cell_type": "code",
   "execution_count": 28,
   "id": "b03c4c3e-a12e-4b04-aa4e-df8d946e61a2",
   "metadata": {},
   "outputs": [
    {
     "name": "stdout",
     "output_type": "stream",
     "text": [
      "train_x shape:(267368, 23)\n",
      "val_x shape:(66842, 23)\n",
      "train_y shape:(267368, 1)\n",
      "val_y shape:(66842, 1)\n"
     ]
    }
   ],
   "source": [
    "decision_train_x, decision_val_x, decision_train_y, decision_val_y = train_test_split(np.array(train_x), np.array(train_y), shuffle=True,\n",
    "    random_state=0, test_size=0.2)\n",
    "print(f\"train_x shape:{decision_train_x.shape}\")\n",
    "print(f\"val_x shape:{decision_val_x.shape}\")\n",
    "print(f\"train_y shape:{decision_train_y.shape}\")\n",
    "print(f\"val_y shape:{decision_val_y.shape}\")"
   ]
  },
  {
   "cell_type": "markdown",
   "id": "7c10a766-431b-42e7-9bef-94705dee76c6",
   "metadata": {},
   "source": [
    "## 7.1. Decision Tree Model"
   ]
  },
  {
   "cell_type": "markdown",
   "id": "e114940d-cadf-4919-9c38-b813c749b71f",
   "metadata": {},
   "source": [
    "### 7.1.1. Train the model"
   ]
  },
  {
   "cell_type": "markdown",
   "id": "d2681597-de64-4115-ab42-f6124662e496",
   "metadata": {},
   "source": [
    "#### 7.1.1.1. Tune the Hyperparameters"
   ]
  },
  {
   "cell_type": "code",
   "execution_count": 54,
   "id": "f7651217-33f8-4923-bf5d-00c0f597b3ec",
   "metadata": {},
   "outputs": [],
   "source": [
    "# Define the hyperparameters and their values to search\n",
    "decision_RFE_param_grid = {\n",
    "    'min_samples_split': [15, 25, 35, 45],\n",
    "    'min_samples_leaf': [6, 8, 10, 12],\n",
    "    'max_depth': [None, 1, 5, 10, 15],\n",
    "    'max_features': [6, 8, 10]\n",
    "}\n",
    "\n",
    "# Instantiate the DecisionTreeClassifier\n",
    "decisionRFETreeModel = DecisionTreeClassifier(criterion='entropy', class_weight='balanced')"
   ]
  },
  {
   "cell_type": "code",
   "execution_count": 29,
   "id": "56baefc8-a234-475f-8798-830d9822dfc0",
   "metadata": {},
   "outputs": [],
   "source": [
    "# Use the selected feature indices to subset the training and validation data\n",
    "decision_RFE_train_x_selected = decision_train_x[:, selected_feature_indices]\n",
    "decision_RFE_val_x_selected = decision_val_x[:, selected_feature_indices]"
   ]
  },
  {
   "cell_type": "code",
   "execution_count": 56,
   "id": "7746e685-ae2d-4477-8664-c85833681bba",
   "metadata": {},
   "outputs": [
    {
     "name": "stdout",
     "output_type": "stream",
     "text": [
      "Best Parameters: {'max_depth': None, 'max_features': 10, 'min_samples_leaf': 6, 'min_samples_split': 45}\n"
     ]
    }
   ],
   "source": [
    "# Instantiate GridSearchCV\n",
    "grid_search = GridSearchCV(estimator=decisionRFETreeModel, param_grid=decision_RFE_param_grid, cv=cv)\n",
    "\n",
    "# Fit the grid search to the data\n",
    "grid_search.fit(decision_RFE_train_x_selected, decision_train_y.ravel())\n",
    "\n",
    "# Print the best parameters found\n",
    "print(\"Best Parameters:\", grid_search.best_params_)"
   ]
  },
  {
   "cell_type": "markdown",
   "id": "fbafc405-385e-4d16-809d-2cc8ecbbb1cb",
   "metadata": {},
   "source": [
    "#### 7.1.1.2. Get the model with the best hyperparameter"
   ]
  },
  {
   "cell_type": "code",
   "execution_count": 57,
   "id": "a41ffb09-c088-4d74-8a12-8c23d6333240",
   "metadata": {},
   "outputs": [],
   "source": [
    "# Get the best model\n",
    "best_decision_model = grid_search.best_estimator_"
   ]
  },
  {
   "cell_type": "markdown",
   "id": "1c738fc8-a925-4f49-b20c-c0466914ba14",
   "metadata": {},
   "source": [
    "#### Save the model"
   ]
  },
  {
   "cell_type": "code",
   "execution_count": 58,
   "id": "9aa3aa4c-033a-459f-8dee-6e9344b8c7f1",
   "metadata": {},
   "outputs": [],
   "source": [
    "# Save the model to a file\n",
    "dump(best_decision_model, '../data/best_decision_model.joblib')"
   ]
  },
  {
   "cell_type": "code",
   "execution_count": 20,
   "id": "4b149bd7-4aa4-4151-9fa6-0770c8039c3d",
   "metadata": {},
   "outputs": [],
   "source": [
    "# Load the model from the file\n",
    "best_decision_loaded_model = load('../data/best_decision_model.joblib')"
   ]
  },
  {
   "cell_type": "code",
   "execution_count": 21,
   "id": "5c248e7a-1e1c-4e18-a806-c1baee3519b7",
   "metadata": {},
   "outputs": [],
   "source": [
    "best_decision_model = best_decision_loaded_model"
   ]
  },
  {
   "cell_type": "markdown",
   "id": "b13505d4-0edb-41e5-ab22-2eafcfa4dfd2",
   "metadata": {},
   "source": [
    "### 7.1.2. Model Performance"
   ]
  },
  {
   "cell_type": "code",
   "execution_count": 32,
   "id": "f7e37c2d-3e2a-4d4c-94e5-68082d4fcf63",
   "metadata": {},
   "outputs": [],
   "source": [
    "# Use the best model for prediction\n",
    "decision_train_pred_y = best_decision_model.predict(decision_RFE_train_x_selected)\n",
    "decision_val_pred_y = best_decision_model.predict(decision_RFE_val_x_selected)"
   ]
  },
  {
   "cell_type": "code",
   "execution_count": 61,
   "id": "89886bf6-466e-4ceb-83e5-7e1a64aa2842",
   "metadata": {},
   "outputs": [
    {
     "name": "stdout",
     "output_type": "stream",
     "text": [
      "\n",
      "Decision Tree Train Model's Overall Performance:\n",
      "              precision    recall  f1-score   support\n",
      "\n",
      "           0       0.91      0.95      0.93    133398\n",
      "           1       0.95      0.91      0.93    133970\n",
      "\n",
      "    accuracy                           0.93    267368\n",
      "   macro avg       0.93      0.93      0.93    267368\n",
      "weighted avg       0.93      0.93      0.93    267368\n",
      "\n",
      "\n",
      "Decision Tree Val Model's Overall Performance:\n",
      "              precision    recall  f1-score   support\n",
      "\n",
      "           0       0.90      0.94      0.92     33707\n",
      "           1       0.94      0.89      0.91     33135\n",
      "\n",
      "    accuracy                           0.92     66842\n",
      "   macro avg       0.92      0.92      0.92     66842\n",
      "weighted avg       0.92      0.92      0.92     66842\n",
      "\n"
     ]
    }
   ],
   "source": [
    "decision_model_train_performance = classification_report(decision_train_y, decision_train_pred_y)\n",
    "decision_model_val_performance = classification_report(decision_val_y, decision_val_pred_y)\n",
    "print(f\"\\nDecision Tree Train Model's Overall Performance:\\n{decision_model_train_performance}\")\n",
    "print(f\"\\nDecision Tree Val Model's Overall Performance:\\n{decision_model_val_performance}\")"
   ]
  },
  {
   "cell_type": "markdown",
   "id": "f3c62b3d-56e9-4fe0-b5ff-7da445ae2389",
   "metadata": {},
   "source": [
    "#### Confusion Matrix"
   ]
  },
  {
   "cell_type": "code",
   "execution_count": 62,
   "id": "373ff2d2-ae43-4add-8da5-24f01345dde9",
   "metadata": {},
   "outputs": [
    {
     "data": {
      "image/png": "[encoded data removed]",
      "text/plain": [
       "<Figure size 800x300 with 4 Axes>"
      ]
     },
     "metadata": {},
     "output_type": "display_data"
    }
   ],
   "source": [
    "plot_confusion_matrices(decision_train_y, decision_train_pred_y, decision_val_y, decision_val_pred_y)"
   ]
  },
  {
   "cell_type": "markdown",
   "id": "da11d551-e671-465f-a200-857e1c7a69fb",
   "metadata": {},
   "source": [
    "#### ROC Curve"
   ]
  },
  {
   "cell_type": "code",
   "execution_count": 63,
   "id": "fab4848f-10f1-4b81-adfe-80a11bb02a5b",
   "metadata": {},
   "outputs": [
    {
     "data": {
      "image/png": "[encoded data removed]",
      "text/plain": [
       "<Figure size 640x480 with 1 Axes>"
      ]
     },
     "metadata": {},
     "output_type": "display_data"
    }
   ],
   "source": [
    "plot_roc_curve(decision_train_y, decision_train_pred_y, decision_val_y, decision_val_pred_y)"
   ]
  },
  {
   "cell_type": "markdown",
   "id": "0a3cbd95-300b-4708-be9d-2360a34b47ef",
   "metadata": {},
   "source": [
    "#### ROC AUC"
   ]
  },
  {
   "cell_type": "code",
   "execution_count": 64,
   "id": "8fff1ad3-f9ce-44f9-a62b-8580b51310e2",
   "metadata": {},
   "outputs": [
    {
     "name": "stdout",
     "output_type": "stream",
     "text": [
      "Train ROC AUC: 0.9324968741022738\n",
      "Validation ROC AUC: 0.917113463640718\n"
     ]
    }
   ],
   "source": [
    "calculate_roc_auc(decision_train_y, decision_train_pred_y, decision_val_y, decision_val_pred_y)"
   ]
  },
  {
   "cell_type": "markdown",
   "id": "c276f978-1116-49b8-982b-25eca69b49e2",
   "metadata": {},
   "source": [
    "# 8. Random Forest Model Development"
   ]
  },
  {
   "cell_type": "markdown",
   "id": "7d659b2c-ff1f-4d99-a6a1-c1624441415c",
   "metadata": {},
   "source": [
    "#### Split the data sets into Train & Validation sets"
   ]
  },
  {
   "cell_type": "code",
   "execution_count": 33,
   "id": "1cbefb7c-976e-4b80-946f-5f761254e4aa",
   "metadata": {},
   "outputs": [
    {
     "name": "stdout",
     "output_type": "stream",
     "text": [
      "train_x shape:(267368, 23)\n",
      "val_x shape:(66842, 23)\n",
      "train_y shape:(267368, 1)\n",
      "val_y shape:(66842, 1)\n"
     ]
    }
   ],
   "source": [
    "random_forest_train_x, random_forest_val_x, random_forest_train_y, random_forest_val_y = train_test_split(np.array(train_x), np.array(train_y), shuffle=True,\n",
    "    random_state=0, test_size=0.2)\n",
    "print(f\"train_x shape:{random_forest_train_x.shape}\")\n",
    "print(f\"val_x shape:{random_forest_val_x.shape}\")\n",
    "print(f\"train_y shape:{random_forest_train_y.shape}\")\n",
    "print(f\"val_y shape:{random_forest_val_y.shape}\")"
   ]
  },
  {
   "cell_type": "markdown",
   "id": "d6e69d42-b816-443d-85d5-10d7f76a1324",
   "metadata": {},
   "source": [
    "## 8.1. Random Forest Baseline Model"
   ]
  },
  {
   "cell_type": "markdown",
   "id": "dd2b0654-2202-4055-8d2c-a577c6e557e7",
   "metadata": {},
   "source": [
    "### 8.1.1. Train the model"
   ]
  },
  {
   "cell_type": "markdown",
   "id": "d3b2c67d-d9ea-49d4-ba20-25aec544ce00",
   "metadata": {},
   "source": [
    "#### 8.1.1.1. Tune the Hyperparameters"
   ]
  },
  {
   "cell_type": "code",
   "execution_count": 66,
   "id": "5c2d99a4-a448-490d-b4dc-fa010cf8e8e4",
   "metadata": {},
   "outputs": [],
   "source": [
    "# Define the parameter distributions for RandomizedSearchCV\n",
    "random_forest_param_distributions = {\n",
    "    'n_estimators': randint(10, 100),              # Number of trees in the forest\n",
    "    'max_depth': [None] + list(range(5, 20)),      # Maximum depth of the trees\n",
    "    'min_samples_split': randint(2, 20),           # Minimum number of samples required to split an internal node\n",
    "    'min_samples_leaf': randint(1, 10),            # Minimum number of samples required to be at a leaf node\n",
    "    'max_features': ['sqrt', 'log2', None] # Methods for determining the maximum number of features\n",
    "}"
   ]
  },
  {
   "cell_type": "code",
   "execution_count": 37,
   "id": "6e8e1e87-bac0-48f2-ab16-5a8cb81c73ed",
   "metadata": {},
   "outputs": [],
   "source": [
    "# Use the selected feature indices to subset the training and validation data\n",
    "random_forest_train_x_selected = random_forest_train_x[:, selected_feature_indices]\n",
    "random_forest_val_x_selected = random_forest_val_x[:, selected_feature_indices]"
   ]
  },
  {
   "cell_type": "code",
   "execution_count": 68,
   "id": "6349b359-81d6-4aae-b54f-067f0854afc3",
   "metadata": {},
   "outputs": [
    {
     "name": "stdout",
     "output_type": "stream",
     "text": [
      "Best Parameters: {'max_depth': 19, 'max_features': None, 'min_samples_leaf': 2, 'min_samples_split': 18, 'n_estimators': 41}\n"
     ]
    }
   ],
   "source": [
    "# Instantiate the Random Forest classifier\n",
    "randomForestModel = RandomForestClassifier()\n",
    "\n",
    "# Instantiate RandomizedSearchCV\n",
    "random_search_forest = RandomizedSearchCV(estimator=randomForestModel, \n",
    "                                          param_distributions=random_forest_param_distributions, \n",
    "                                          n_iter=100,      \n",
    "                                          cv=cv, \n",
    "                                          random_state=42)\n",
    "\n",
    "# Fit RandomizedSearchCV to the data\n",
    "random_search_forest.fit(random_forest_train_x_selected, random_forest_train_y.ravel())\n",
    "\n",
    "# Print the best parameters found\n",
    "print(\"Best Parameters:\", random_search_forest.best_params_)"
   ]
  },
  {
   "cell_type": "markdown",
   "id": "ec6bdf59-9772-401b-a91e-d599720c5f72",
   "metadata": {},
   "source": [
    "#### 8.1.1.2. Get the model with the best hyperparameter"
   ]
  },
  {
   "cell_type": "code",
   "execution_count": 69,
   "id": "7ef9266b-209d-4f09-89fd-747dd79e71b1",
   "metadata": {},
   "outputs": [],
   "source": [
    "# Get the best model\n",
    "best_random_forest_model = random_search_forest.best_estimator_"
   ]
  },
  {
   "cell_type": "markdown",
   "id": "7b12a4de-e2b8-4bc8-acd3-293af275ecfd",
   "metadata": {},
   "source": [
    "#### Save the model"
   ]
  },
  {
   "cell_type": "code",
   "execution_count": 70,
   "id": "9f98aa91-02bd-4c1e-9c56-47dc4ba675af",
   "metadata": {},
   "outputs": [],
   "source": [
    "# Save the model to a file\n",
    "dump(best_random_forest_model, '../data/best_random_forest_model.joblib')"
   ]
  },
  {
   "cell_type": "code",
   "execution_count": 24,
   "id": "7c0b3dc0-b5fb-4766-965c-60ffa871fb77",
   "metadata": {},
   "outputs": [],
   "source": [
    "# Load the model from the file\n",
    "best_random_forest_loaded_model = load('../data/best_random_forest_model.joblib')"
   ]
  },
  {
   "cell_type": "code",
   "execution_count": 35,
   "id": "278a39a0-f849-4428-bc8b-6ada307c11c9",
   "metadata": {},
   "outputs": [],
   "source": [
    "best_random_forest_model = best_random_forest_loaded_model"
   ]
  },
  {
   "cell_type": "markdown",
   "id": "e3543b02-8617-49fc-bcd7-b1ca5f795a65",
   "metadata": {},
   "source": [
    "### 8.1.2. Model Performance"
   ]
  },
  {
   "cell_type": "code",
   "execution_count": 38,
   "id": "b6e369bf-32b4-434a-ae57-af61f7fcb423",
   "metadata": {},
   "outputs": [],
   "source": [
    "# Making predictions\n",
    "random_forest_train_pred_y = best_random_forest_model.predict(random_forest_train_x_selected)\n",
    "random_forest_val_pred_y = best_random_forest_model.predict(random_forest_val_x_selected)"
   ]
  },
  {
   "cell_type": "code",
   "execution_count": 73,
   "id": "0fdbab4a-c9ad-4195-8518-818155ca06de",
   "metadata": {},
   "outputs": [
    {
     "name": "stdout",
     "output_type": "stream",
     "text": [
      "\n",
      "Baseline Train Model's Overall Performance:\n",
      "              precision    recall  f1-score   support\n",
      "\n",
      "           0       0.92      0.93      0.92    133398\n",
      "           1       0.93      0.92      0.92    133970\n",
      "\n",
      "    accuracy                           0.92    267368\n",
      "   macro avg       0.92      0.92      0.92    267368\n",
      "weighted avg       0.92      0.92      0.92    267368\n",
      "\n",
      "\n",
      "Baseline Val Model's Overall Performance:\n",
      "              precision    recall  f1-score   support\n",
      "\n",
      "           0       0.91      0.92      0.91     33707\n",
      "           1       0.92      0.90      0.91     33135\n",
      "\n",
      "    accuracy                           0.91     66842\n",
      "   macro avg       0.91      0.91      0.91     66842\n",
      "weighted avg       0.91      0.91      0.91     66842\n",
      "\n"
     ]
    }
   ],
   "source": [
    "random_forest_model_train_performance = classification_report(random_forest_train_y, random_forest_train_pred_y)\n",
    "random_forest_model_val_performance = classification_report(random_forest_val_y, random_forest_val_pred_y)\n",
    "print(f\"\\nBaseline Train Model's Overall Performance:\\n{random_forest_model_train_performance}\")\n",
    "print(f\"\\nBaseline Val Model's Overall Performance:\\n{random_forest_model_val_performance}\")"
   ]
  },
  {
   "cell_type": "markdown",
   "id": "6cf43dd9-e0f4-4551-8400-b1765056b56f",
   "metadata": {},
   "source": [
    "#### Confusion Matrix"
   ]
  },
  {
   "cell_type": "code",
   "execution_count": 74,
   "id": "a3ef61a7-730d-4625-b6cc-dfa64d3950ea",
   "metadata": {},
   "outputs": [
    {
     "data": {
      "image/png": "[encoded data removed]",
      "text/plain": [
       "<Figure size 800x300 with 4 Axes>"
      ]
     },
     "metadata": {},
     "output_type": "display_data"
    }
   ],
   "source": [
    "plot_confusion_matrices(random_forest_train_y, random_forest_train_pred_y, random_forest_val_y, random_forest_val_pred_y)"
   ]
  },
  {
   "cell_type": "markdown",
   "id": "9a1cd440-ceca-46eb-a091-8de9f0a52d35",
   "metadata": {},
   "source": [
    "#### ROC Curve"
   ]
  },
  {
   "cell_type": "code",
   "execution_count": 75,
   "id": "8ebc9f90-4e10-461e-9da4-3cd54a4273b5",
   "metadata": {},
   "outputs": [
    {
     "data": {
      "image/png": "[encoded data removed]",
      "text/plain": [
       "<Figure size 640x480 with 1 Axes>"
      ]
     },
     "metadata": {},
     "output_type": "display_data"
    }
   ],
   "source": [
    "plot_roc_curve(random_forest_train_y, random_forest_train_pred_y, random_forest_val_y, random_forest_val_pred_y)"
   ]
  },
  {
   "cell_type": "markdown",
   "id": "30a7fb7d-fa91-4404-8d52-a095273e6e4c",
   "metadata": {},
   "source": [
    "#### ROC AUC"
   ]
  },
  {
   "cell_type": "code",
   "execution_count": 76,
   "id": "7cf967f1-bc81-4d57-97dd-72f61b69f017",
   "metadata": {},
   "outputs": [
    {
     "name": "stdout",
     "output_type": "stream",
     "text": [
      "Train ROC AUC: 0.9242915637807878\n",
      "Validation ROC AUC: 0.9111491403637743\n"
     ]
    }
   ],
   "source": [
    "calculate_roc_auc(random_forest_train_y, random_forest_train_pred_y, random_forest_val_y, random_forest_val_pred_y)"
   ]
  },
  {
   "cell_type": "markdown",
   "id": "a53f7030-9a84-40b5-9068-5099662a036d",
   "metadata": {
    "jp-MarkdownHeadingCollapsed": true
   },
   "source": [
    "# 9. Final Model Selection"
   ]
  },
  {
   "cell_type": "markdown",
   "id": "48612802-862a-483f-9d59-6f8b8d828a79",
   "metadata": {},
   "source": [
    "## 9.1 Compare 5 Models"
   ]
  },
  {
   "cell_type": "markdown",
   "id": "2955caf2-ba26-4e21-b569-75663693fec1",
   "metadata": {},
   "source": [
    "### 9.1.1. ROC Curve"
   ]
  },
  {
   "cell_type": "code",
   "execution_count": 41,
   "id": "d255a264-9874-4fe7-ac8f-d6a9cf7185c9",
   "metadata": {},
   "outputs": [],
   "source": [
    "all_models = dict()\n",
    "all_models[\"linear\"] = best_logistic\n",
    "all_models[\"poly1\"] = best_poly1\n",
    "all_models[\"poly2\"] = best_poly2\n",
    "all_models[\"decision\"] = best_decision_model\n",
    "all_models[\"random\"] = best_random_forest_model"
   ]
  },
  {
   "cell_type": "code",
   "execution_count": 42,
   "id": "75edfccf-a687-4428-bbea-4fe79aac1074",
   "metadata": {},
   "outputs": [
    {
     "name": "stdout",
     "output_type": "stream",
     "text": [
      "Model           Train AUC  Train F1   Val AUC    Val F1\n",
      "------------------------------------------------------------\n",
      "linear            0.79915   0.79970   0.79710   0.79557\n",
      "poly1             0.78508   0.78546   0.78347   0.78157\n",
      "poly2             0.78508   0.78546   0.78347   0.78157\n",
      "decision          0.93250   0.93104   0.91711   0.91466\n",
      "random            0.92429   0.92417   0.91115   0.90988\n"
     ]
    },
    {
     "data": {
      "image/png": "[encoded data removed]",
      "text/plain": [
       "<Figure size 800x400 with 1 Axes>"
      ]
     },
     "metadata": {},
     "output_type": "display_data"
    }
   ],
   "source": [
    "fig, axis = plt.subplots(figsize=(8, 4))\n",
    "\n",
    "print(f\"{'Model':15}{'Train AUC':>10}{'Train F1':>10}{'Val AUC':>10}{'Val F1':>10}\")\n",
    "print(\"-\" * 60)\n",
    "for name, model in all_models.items():\n",
    "    if name == \"linear\":\n",
    "        pred_train_y = best_logistic_train_pred_y\n",
    "        pred_val_y = best_logistic_val_pred_y\n",
    "    elif name == \"poly1\":\n",
    "        pred_train_y = logistic_poly1_train_pred_y\n",
    "        pred_val_y = logistic_poly1_val_pred_y\n",
    "    elif name == \"poly2\":\n",
    "        pred_train_y = logistic_poly2_train_pred_y\n",
    "        pred_val_y = logistic_poly2_val_pred_y\n",
    "    elif name == \"decision\":\n",
    "        pred_train_y = decision_train_pred_y\n",
    "        pred_val_y = decision_val_pred_y \n",
    "    elif name == \"random\":\n",
    "        pred_train_y = random_forest_train_pred_y\n",
    "        pred_val_y = random_forest_val_pred_y\n",
    "        \n",
    "    train_fpr, train_tpr, _ = roc_curve(logistic_baseline_train_y.ravel(), pred_train_y.ravel())\n",
    "    val_fpr, val_tpr, _ = roc_curve(logistic_baseline_val_y.ravel(), pred_val_y.ravel())\n",
    "\n",
    "    train_auc = auc(train_fpr, train_tpr)\n",
    "    val_auc = auc(val_fpr, val_tpr)\n",
    "\n",
    "    sns.lineplot(x=train_fpr, y=train_tpr, label=f\"{name} Train (AUC={train_auc:.2f}, F1={f1_score(logistic_baseline_train_y.ravel(), pred_train_y.ravel()):.2f})\", ax=axis)\n",
    "    sns.lineplot(x=val_fpr, y=val_tpr, label=f\"{name} Val (AUC={val_auc:.2f}, F1={f1_score(logistic_baseline_val_y.ravel(), pred_val_y.ravel()):.2f})\", ax=axis)\n",
    "    plt.fill_between(train_fpr, train_tpr, alpha=0.024)\n",
    "    plt.fill_between(val_fpr, val_tpr, alpha=0.024)\n",
    "    print(f\"{name:15}{train_auc:10.5f}{f1_score(logistic_baseline_train_y.ravel(), pred_train_y.ravel()):10.5f}{val_auc:10.5f}{f1_score(logistic_baseline_val_y.ravel(), pred_val_y.ravel()):10.5f}\")\n",
    "\n",
    "plt.plot([0, 1], [0, 1], linestyle=\"--\", color=\"black\", alpha=0.1)\n",
    "axis.set_xlabel(\"False Positive Rate\")\n",
    "axis.set_ylabel(\"True Positive Rate\")\n",
    "axis.set_title(\"ROC Curve - Model Comparison\")\n",
    "axis.legend()\n",
    "\n",
    "plt.show()"
   ]
  },
  {
   "cell_type": "markdown",
   "id": "1655ef20-3490-4377-b3ce-85a83d0706d5",
   "metadata": {},
   "source": [
    "### 9.1.2. Summary"
   ]
  },
  {
   "cell_type": "markdown",
   "id": "cd331bdc-dc5c-4e60-97ce-886fd2871727",
   "metadata": {},
   "source": [
    "We experimented with five different models: logistic regression linear, logistic polynomial degree 1 and 2, decision tree, and random forest. \n",
    "\n",
    "#### Overall Performance\n",
    "\n",
    "The first ROC curve displays the performance of all five models on both the training and validation datasets.\n",
    "\n",
    "- **Logistic Regression Linear**: \n",
    "  - Train (AUC = 0.8, F1 = 0.8)\n",
    "  - Validation (AUC = 0.8, F1 = 0.8)\n",
    "\n",
    "- **Logistic Polynomial Degree 1**:\n",
    "  - Train (AUC = 0.79, F1 = 0.79)\n",
    "  - Validation (AUC = 0.78, F1 = 0.78)\n",
    "\n",
    "- **Logistic Polynomial Degree 2**:\n",
    "  - Train (AUC = 0.79, F1 = 0.79)\n",
    "  - Validation (AUC = 0.78, F1 = 0.78)\n",
    "\n",
    "- **Decision Tree**: \n",
    "  - Train (AUC = 0.93, F1 = 0.93)\n",
    "  - Validation (AUC = 0.92, F1 = 0.91)\n",
    "\n",
    "- **Random Forest**: \n",
    "  - Train (AUC = 0.92, F1 = 0.92)\n",
    "  - Validation (AUC = 0.91, F1 = 0.91)"
   ]
  },
  {
   "cell_type": "markdown",
   "id": "e5f658e4-0692-4bbd-8a25-1a7e14abd027",
   "metadata": {},
   "source": [
    "## 9.2 Compare 3 Models"
   ]
  },
  {
   "cell_type": "markdown",
   "id": "c32ba403-eec8-4cce-97e9-dcb9a5f1080e",
   "metadata": {
    "jp-MarkdownHeadingCollapsed": true
   },
   "source": [
    "### 9.2.1. ROC Curve"
   ]
  },
  {
   "cell_type": "code",
   "execution_count": 44,
   "id": "747aaa92-abd3-428c-85cf-b4e53a3e56e4",
   "metadata": {},
   "outputs": [
    {
     "name": "stdout",
     "output_type": "stream",
     "text": [
      "Model           Train AUC  Train F1   Val AUC    Val F1\n",
      "------------------------------------------------------------\n",
      "poly2             0.78508   0.78546   0.78347   0.78157\n",
      "decision          0.93250   0.93104   0.91711   0.91466\n",
      "random            0.92429   0.92417   0.91115   0.90988\n"
     ]
    },
    {
     "data": {
      "image/png": "[encoded data removed]",
      "text/plain": [
       "<Figure size 800x400 with 1 Axes>"
      ]
     },
     "metadata": {},
     "output_type": "display_data"
    }
   ],
   "source": [
    "fig, axis = plt.subplots(figsize=(8, 4))\n",
    "\n",
    "print(f\"{'Model':15}{'Train AUC':>10}{'Train F1':>10}{'Val AUC':>10}{'Val F1':>10}\")\n",
    "print(\"-\" * 60)\n",
    "for name, model in all_models.items():\n",
    "    if name == \"poly2\":\n",
    "        pred_train_y = logistic_poly2_train_pred_y\n",
    "        pred_val_y = logistic_poly2_val_pred_y\n",
    "    elif name == \"decision\":\n",
    "        pred_train_y = decision_train_pred_y\n",
    "        pred_val_y = decision_val_pred_y\n",
    "    elif name == \"random\":\n",
    "        pred_train_y = random_forest_train_pred_y\n",
    "        pred_val_y = random_forest_val_pred_y\n",
    "    else:\n",
    "        continue\n",
    "        \n",
    "    train_fpr, train_tpr, _ = roc_curve(logistic_baseline_train_y.ravel(), pred_train_y.ravel())\n",
    "    val_fpr, val_tpr, _ = roc_curve(logistic_baseline_val_y.ravel(), pred_val_y.ravel())\n",
    "\n",
    "    train_auc = auc(train_fpr, train_tpr)\n",
    "    val_auc = auc(val_fpr, val_tpr)\n",
    "\n",
    "    sns.lineplot(x=train_fpr, y=train_tpr, label=f\"{name} Train (AUC={train_auc:.2f}, F1={f1_score(logistic_baseline_train_y.ravel(), pred_train_y.ravel()):.2f})\", ax=axis)\n",
    "    sns.lineplot(x=val_fpr, y=val_tpr, label=f\"{name} Val (AUC={val_auc:.2f}, F1={f1_score(logistic_baseline_val_y.ravel(), pred_val_y.ravel()):.2f})\", ax=axis)\n",
    "    plt.fill_between(train_fpr, train_tpr, alpha=0.024)\n",
    "    plt.fill_between(val_fpr, val_tpr, alpha=0.024)\n",
    "    print(f\"{name:15}{train_auc:10.5f}{f1_score(logistic_baseline_train_y.ravel(), pred_train_y.ravel()):10.5f}{val_auc:10.5f}{f1_score(logistic_baseline_val_y.ravel(), pred_val_y.ravel()):10.5f}\")\n",
    "\n",
    "plt.plot([0, 1], [0, 1], linestyle=\"--\", color=\"black\", alpha=0.1)\n",
    "axis.set_xlabel(\"False Positive Rate\")\n",
    "axis.set_ylabel(\"True Positive Rate\")\n",
    "axis.set_title(\"ROC Curve - Model Comparison\")\n",
    "axis.legend()\n",
    "\n",
    "plt.show()\n"
   ]
  },
  {
   "cell_type": "markdown",
   "id": "2f2c2f47-9c6e-42d2-8f90-0187032a3c3d",
   "metadata": {
    "jp-MarkdownHeadingCollapsed": true
   },
   "source": [
    "### 9.2.2. Summary "
   ]
  },
  {
   "cell_type": "markdown",
   "id": "208da81d-5c30-4275-bb7d-3a9d3efcb37f",
   "metadata": {},
   "source": [
    "#### Refined Options\n",
    "\n",
    "Considering the discussion above, we opted for the logistic polynomial degree 2 regression model due to its capability to capture potential nonlinear patterns while mitigating the risks of overfitting associated with higher polynomial degrees. This choice strikes a balance between capturing complexity and avoiding overfitting.\n",
    "\n",
    "#### Refined Comparison\n",
    "\n",
    "To facilitate a clearer comparison, the second ROC curve focuses on the logistic polynomial degree 2 regression model, decision tree, and random forest models.\n",
    "\n",
    "- **Logistic Polynomial Degree 2**:\n",
    "  - Train (AUC = 0.79, F1 = 0.79)\n",
    "  - Validation (AUC = 0.78, F1 = 0.78)\n",
    "\n",
    "- **Decision Tree**: \n",
    "  - Train (AUC = 0.93, F1 = 0.93)\n",
    "  - Validation (AUC = 0.92, F1 = 0.91)\n",
    "\n",
    "- **Random Forest**: \n",
    "  - Train (AUC = 0.92, F1 = 0.92)\n",
    "  - Validation (AUC = 0.91, F1 = 0.91)"
   ]
  },
  {
   "cell_type": "markdown",
   "id": "bddb3e8a-2eb0-4629-a589-8b026079e865",
   "metadata": {},
   "source": [
    "## 9.3. Final Decision"
   ]
  },
  {
   "cell_type": "markdown",
   "id": "614a3191-2654-49fd-aef7-ca5b62b82e31",
   "metadata": {},
   "source": [
    "Let's revisit our model evaluation criteria that we established before developing the models:\n",
    "\n",
    "- Given the importance of accurately predicting diabetes diagnosis and the potential consequences of misclassifications in medical settings, we prioritize the F1 score as our primary evaluation metric in this project.\n",
    "- Our performance improvement criteria aim for an F1 score of 87~92%.\n",
    "\n",
    "### Logistic Polynomial Degree 2 Model\n",
    "\n",
    "- This model achieves moderate performance on both the training and validation datasets.\n",
    "- The F1 score for both the training and validation sets is 0.79 and 0.78 respectively, indicating fair predictive performance.\n",
    "- It's a simpler model compared to the decision tree and random forest, which might be advantageous if computational resources or model interpretability are concerns.\n",
    "- Based on our criteria of the model 87~92%, we consider this to be underfitting.\n",
    "\n",
    "### Decision Tree Model\n",
    "\n",
    "- The decision tree model shows strong performance, particularly on the training dataset.\n",
    "- It achieves a significantly higher F1 score on the training set compared to the logistic polynomial degree 2 model.\n",
    "- However, the performance on the validation set (0.91) is slightly lower than the training set (0.93) by 0.02, suggesting some degree of overfitting.\n",
    "- Decision trees tend to capture complex relationships in the data but can be prone to overfitting if not properly regularized.\n",
    "- Based on our criteria of the model 87~92%, we consider this to be slightly overfitting.\n",
    "\n",
    "### Random Forest Model\n",
    "\n",
    "- Similar to the decision tree model, the random forest model demonstrates strong performance on the training dataset.\n",
    "- It achieves a high F1 score on the training set, indicating good predictive capability.\n",
    "- The performance on the validation set (0.91) is slightly lower than the training set (0.92), but it's generally well-regularized with a 0.01 difference compared to a single decision tree.\n",
    "- Random forest models are robust and less prone to overfitting compared to decision trees, thanks to the ensemble approach.\n",
    "- Based on our criteria of the model 87~92%, we consider this to be within the fit range.\n",
    "\n",
    "In conclusion, the **Random Forest model** seems to be the best model to choose due to its strong performance on both the training and validation sets, its robustness against overfitting, and its alignment with the fit range of our criteria (87~92% F1 score).\n"
   ]
  },
  {
   "cell_type": "markdown",
   "id": "2f47ba64-ddba-4794-ba28-698d4dfdd978",
   "metadata": {},
   "source": [
    "**Following the completion of the data processing step, we are ready to move onto the model evaluation.**"
   ]
  }
 ],
 "metadata": {
  "kernelspec": {
   "display_name": "Python 3 (ipykernel)",
   "language": "python",
   "name": "python3"
  },
  "language_info": {
   "codemirror_mode": {
    "name": "ipython",
    "version": 3
   },
   "file_extension": ".py",
   "mimetype": "text/x-python",
   "name": "python",
   "nbconvert_exporter": "python",
   "pygments_lexer": "ipython3",
   "version": "3.11.7"
  }
 },
 "nbformat": 4,
 "nbformat_minor": 5
}
